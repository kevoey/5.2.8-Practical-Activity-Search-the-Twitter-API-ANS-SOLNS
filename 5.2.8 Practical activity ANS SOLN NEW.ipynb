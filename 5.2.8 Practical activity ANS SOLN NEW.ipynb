{
 "cells": [
  {
   "cell_type": "markdown",
   "id": "fdf12d3e",
   "metadata": {},
   "source": [
    "# 5.2.8 Practical activity: Search the Twitter API"
   ]
  },
  {
   "cell_type": "code",
   "execution_count": null,
   "id": "d40b3ced",
   "metadata": {},
   "outputs": [],
   "source": [
    "#Scenario\n",
    "\n",
    "#Earlier, as a data analyst at a financial institution, your manager tasked you with investigating Bitcoin in terms of \n",
    "#future growth and its use in the United States. Previously, you accessed Bitcoin data through the Coingecko API. Now, \n",
    "#your manager asks you to turn your attention to Twitter.\n",
    "\n",
    "#Your manager then wants you to cross-check trending topics between the United States (New York) and the UK (London), to \n",
    "#see what people are talking about in both countries and if Bitcoin forms part of the larger conversation. If Bitcoin is \n",
    "#not a shared trending topic, then she asks that you search Twitter for #Bitcoin and provide a JSON printout. "
   ]
  },
  {
   "cell_type": "code",
   "execution_count": 2,
   "id": "875f65ee",
   "metadata": {},
   "outputs": [],
   "source": [
    "#Approach\n",
    "\n",
    "#To begin exploring Bitcoin on Twitter you will need to start a new Jupyter Notebook and connect to the Twitter API with \n",
    "#your OAuth authentication. Follow this code snippet to prepare your Jupyter Notebook with the Twitter.API.\n",
    "\n",
    "# Copy the YAML file and your Twitter keys over before you start to work.\n",
    "import yaml\n",
    "from yaml.loader import SafeLoader\n",
    "from twitter import *\n",
    "\n",
    "# Import the YAML file - remember to specify the whole path.\n",
    "twitter_creds = yaml.safe_load(open('twitter_tmp_updated.yaml', 'r').read())\n",
    "\n",
    "# Pass your twitter credentials.\n",
    "twitter_api = Twitter(auth=OAuth(twitter_creds['access_token'],\n",
    "                                 twitter_creds['access_token_secret'], \n",
    "                                 twitter_creds['api_key'],\n",
    "                                 twitter_creds['api_secret_key'] ))"
   ]
  },
  {
   "cell_type": "code",
   "execution_count": 6,
   "id": "1d31846c",
   "metadata": {},
   "outputs": [
    {
     "name": "stdout",
     "output_type": "stream",
     "text": [
      "{'statuses': [{'created_at': 'Mon Jul 04 05:26:17 +0000 2022', 'id': 1543828522774700032, 'id_str': '1543828522774700032', 'text': 'RT @VeilleCyber3: #ArtificialIntelligence in the 4th Industrial Revolution \\nhttps://t.co/i8bHrDU4wr\\n\\n#cryptocurrencies #MachineLearning #AI…', 'truncated': False, 'entities': {'hashtags': [{'text': 'ArtificialIntelligence', 'indices': [18, 41]}, {'text': 'cryptocurrencies', 'indices': [101, 118]}, {'text': 'MachineLearning', 'indices': [119, 135]}, {'text': 'AI', 'indices': [136, 139]}], 'symbols': [], 'user_mentions': [{'screen_name': 'VeilleCyber3', 'name': 'Cybersécurité, IA, Metavers, Cryptomonnaies', 'id': 1273173749492219905, 'id_str': '1273173749492219905', 'indices': [3, 16]}], 'urls': [{'url': 'https://t.co/i8bHrDU4wr', 'expanded_url': 'http://ow.ly/4zNH50JGoS3', 'display_url': 'ow.ly/4zNH50JGoS3', 'indices': [76, 99]}]}, 'metadata': {'iso_language_code': 'en', 'result_type': 'recent'}, 'source': '<a href=\"http://twitter.com/download/iphone\" rel=\"nofollow\">Twitter for iPhone</a>', 'in_reply_to_status_id': None, 'in_reply_to_status_id_str': None, 'in_reply_to_user_id': None, 'in_reply_to_user_id_str': None, 'in_reply_to_screen_name': None, 'user': {'id': 71569379, 'id_str': '71569379', 'name': 'Black Dragon', 'screen_name': 'Black_Dragon123', 'location': 'India', 'description': 'Earth Science, Geospatial Analysis, Cartographic Analysis, AI n Gaming........thats about it for me ;)', 'url': None, 'entities': {'description': {'urls': []}}, 'protected': False, 'followers_count': 887, 'friends_count': 437, 'listed_count': 2060, 'created_at': 'Fri Sep 04 16:05:16 +0000 2009', 'favourites_count': 58701, 'utc_offset': None, 'time_zone': None, 'geo_enabled': True, 'verified': False, 'statuses_count': 91533, 'lang': None, 'contributors_enabled': False, 'is_translator': False, 'is_translation_enabled': False, 'profile_background_color': '000021', 'profile_background_image_url': 'http://abs.twimg.com/images/themes/theme9/bg.gif', 'profile_background_image_url_https': 'https://abs.twimg.com/images/themes/theme9/bg.gif', 'profile_background_tile': False, 'profile_image_url': 'http://pbs.twimg.com/profile_images/509674126848434176/Tp67l9eJ_normal.jpeg', 'profile_image_url_https': 'https://pbs.twimg.com/profile_images/509674126848434176/Tp67l9eJ_normal.jpeg', 'profile_banner_url': 'https://pbs.twimg.com/profile_banners/71569379/1410350895', 'profile_link_color': '000000', 'profile_sidebar_border_color': 'FFFFFF', 'profile_sidebar_fill_color': 'F7DA93', 'profile_text_color': 'CC3300', 'profile_use_background_image': True, 'has_extended_profile': True, 'default_profile': False, 'default_profile_image': False, 'following': False, 'follow_request_sent': False, 'notifications': False, 'translator_type': 'none', 'withheld_in_countries': []}, 'geo': None, 'coordinates': None, 'place': None, 'contributors': None, 'retweeted_status': {'created_at': 'Mon Jul 04 04:15:02 +0000 2022', 'id': 1543810591856402432, 'id_str': '1543810591856402432', 'text': '#ArtificialIntelligence in the 4th Industrial Revolution \\nhttps://t.co/i8bHrDU4wr\\n\\n#cryptocurrencies… https://t.co/0VLsNZNvaB', 'truncated': True, 'entities': {'hashtags': [{'text': 'ArtificialIntelligence', 'indices': [0, 23]}, {'text': 'cryptocurrencies', 'indices': [83, 100]}], 'symbols': [], 'user_mentions': [], 'urls': [{'url': 'https://t.co/i8bHrDU4wr', 'expanded_url': 'http://ow.ly/4zNH50JGoS3', 'display_url': 'ow.ly/4zNH50JGoS3', 'indices': [58, 81]}, {'url': 'https://t.co/0VLsNZNvaB', 'expanded_url': 'https://twitter.com/i/web/status/1543810591856402432', 'display_url': 'twitter.com/i/web/status/1…', 'indices': [102, 125]}]}, 'metadata': {'iso_language_code': 'en', 'result_type': 'recent'}, 'source': '<a href=\"https://www.hootsuite.com\" rel=\"nofollow\">Hootsuite Inc.</a>', 'in_reply_to_status_id': None, 'in_reply_to_status_id_str': None, 'in_reply_to_user_id': None, 'in_reply_to_user_id_str': None, 'in_reply_to_screen_name': None, 'user': {'id': 1273173749492219905, 'id_str': '1273173749492219905', 'name': 'Cybersécurité, IA, Metavers, Cryptomonnaies', 'screen_name': 'VeilleCyber3', 'location': 'Paris', 'description': 'Top 10 Influencers #insurtech / #cybersecurity #Metaverse #AI #crypto #intelligenceartificielle #cybersecurite #bitcoin @Probe_IT_', 'url': 'https://t.co/yCUYTmGzZa', 'entities': {'url': {'urls': [{'url': 'https://t.co/yCUYTmGzZa', 'expanded_url': 'https://veille-cyber.com/', 'display_url': 'veille-cyber.com', 'indices': [0, 23]}]}, 'description': {'urls': []}}, 'protected': False, 'followers_count': 2644, 'friends_count': 149, 'listed_count': 70, 'created_at': 'Wed Jun 17 08:41:18 +0000 2020', 'favourites_count': 9198, 'utc_offset': None, 'time_zone': None, 'geo_enabled': False, 'verified': False, 'statuses_count': 14282, 'lang': None, 'contributors_enabled': False, 'is_translator': False, 'is_translation_enabled': False, 'profile_background_color': 'F5F8FA', 'profile_background_image_url': None, 'profile_background_image_url_https': None, 'profile_background_tile': False, 'profile_image_url': 'http://pbs.twimg.com/profile_images/1524765050124263426/qyqnDvVj_normal.jpg', 'profile_image_url_https': 'https://pbs.twimg.com/profile_images/1524765050124263426/qyqnDvVj_normal.jpg', 'profile_banner_url': 'https://pbs.twimg.com/profile_banners/1273173749492219905/1655198243', 'profile_link_color': '1DA1F2', 'profile_sidebar_border_color': 'C0DEED', 'profile_sidebar_fill_color': 'DDEEF6', 'profile_text_color': '333333', 'profile_use_background_image': True, 'has_extended_profile': True, 'default_profile': True, 'default_profile_image': False, 'following': False, 'follow_request_sent': False, 'notifications': False, 'translator_type': 'none', 'withheld_in_countries': []}, 'geo': None, 'coordinates': None, 'place': None, 'contributors': None, 'is_quote_status': False, 'retweet_count': 14, 'favorite_count': 14, 'favorited': False, 'retweeted': False, 'possibly_sensitive': False, 'lang': 'en'}, 'is_quote_status': False, 'retweet_count': 14, 'favorite_count': 0, 'favorited': False, 'retweeted': False, 'possibly_sensitive': False, 'lang': 'en'}, {'created_at': 'Mon Jul 04 05:26:17 +0000 2022', 'id': 1543828521616674817, 'id_str': '1543828521616674817', 'text': 'RT @Khulood_Almani: The Role Of #AI And #EdgeComputing In Building The Checkout-Free #Store \\n\\nvia @Forbes\\n\\nhttps://t.co/slDBd6ujL0 \\n\\n#Bigda…', 'truncated': False, 'entities': {'hashtags': [{'text': 'AI', 'indices': [32, 35]}, {'text': 'EdgeComputing', 'indices': [40, 54]}, {'text': 'Store', 'indices': [85, 91]}], 'symbols': [], 'user_mentions': [{'screen_name': 'Khulood_Almani', 'name': 'Dr. Khulood Almani | د.خلود المانع', 'id': 1403861754808049666, 'id_str': '1403861754808049666', 'indices': [3, 18]}, {'screen_name': 'Forbes', 'name': 'Forbes', 'id': 91478624, 'id_str': '91478624', 'indices': [98, 105]}], 'urls': [{'url': 'https://t.co/slDBd6ujL0', 'expanded_url': 'https://bit.ly/3yyeSgB', 'display_url': 'bit.ly/3yyeSgB', 'indices': [107, 130]}]}, 'metadata': {'iso_language_code': 'en', 'result_type': 'recent'}, 'source': '<a href=\"http://twitter.com/download/android\" rel=\"nofollow\">Twitter for Android</a>', 'in_reply_to_status_id': None, 'in_reply_to_status_id_str': None, 'in_reply_to_user_id': None, 'in_reply_to_user_id_str': None, 'in_reply_to_screen_name': None, 'user': {'id': 1491106636441665541, 'id_str': '1491106636441665541', 'name': '🌆RØLËX👑Suriya🥳👸🏻Rasigai®™🍿upcomin📽️êxcitėd✪', 'screen_name': 'TwizeruseR', 'location': 'tw', 'description': '❤️ the fan and @Jyotiika sis and @Suriya_offl broinlw | she/hers 💥🎇  📺🤗                    🌞😎😏😍😄🗿👛💸🍕🌐          `=|,°•', 'url': 'https://t.co/9tIXEHKOce', 'entities': {'url': {'urls': [{'url': 'https://t.co/9tIXEHKOce', 'expanded_url': 'https://youtu.be', 'display_url': 'youtu.be', 'indices': [0, 23]}]}, 'description': {'urls': []}}, 'protected': False, 'followers_count': 26, 'friends_count': 123, 'listed_count': 0, 'created_at': 'Tue Feb 08 17:48:32 +0000 2022', 'favourites_count': 9946, 'utc_offset': None, 'time_zone': None, 'geo_enabled': False, 'verified': False, 'statuses_count': 3878, 'lang': None, 'contributors_enabled': False, 'is_translator': False, 'is_translation_enabled': False, 'profile_background_color': 'F5F8FA', 'profile_background_image_url': None, 'profile_background_image_url_https': None, 'profile_background_tile': False, 'profile_image_url': 'http://pbs.twimg.com/profile_images/1542887796167258113/zSUgPcSK_normal.jpg', 'profile_image_url_https': 'https://pbs.twimg.com/profile_images/1542887796167258113/zSUgPcSK_normal.jpg', 'profile_banner_url': 'https://pbs.twimg.com/profile_banners/1491106636441665541/1652866429', 'profile_link_color': '1DA1F2', 'profile_sidebar_border_color': 'C0DEED', 'profile_sidebar_fill_color': 'DDEEF6', 'profile_text_color': '333333', 'profile_use_background_image': True, 'has_extended_profile': True, 'default_profile': True, 'default_profile_image': False, 'following': False, 'follow_request_sent': False, 'notifications': False, 'translator_type': 'none', 'withheld_in_countries': []}, 'geo': None, 'coordinates': None, 'place': None, 'contributors': None, 'retweeted_status': {'created_at': 'Fri Jul 01 11:50:54 +0000 2022', 'id': 1542838150703288320, 'id_str': '1542838150703288320', 'text': 'The Role Of #AI And #EdgeComputing In Building The Checkout-Free #Store \\n\\nvia @Forbes\\n\\nhttps://t.co/slDBd6ujL0… https://t.co/85tWyDZCI7', 'truncated': True, 'entities': {'hashtags': [{'text': 'AI', 'indices': [12, 15]}, {'text': 'EdgeComputing', 'indices': [20, 34]}, {'text': 'Store', 'indices': [65, 71]}], 'symbols': [], 'user_mentions': [{'screen_name': 'Forbes', 'name': 'Forbes', 'id': 91478624, 'id_str': '91478624', 'indices': [78, 85]}], 'urls': [{'url': 'https://t.co/slDBd6ujL0', 'expanded_url': 'https://bit.ly/3yyeSgB', 'display_url': 'bit.ly/3yyeSgB', 'indices': [87, 110]}, {'url': 'https://t.co/85tWyDZCI7', 'expanded_url': 'https://twitter.com/i/web/status/1542838150703288320', 'display_url': 'twitter.com/i/web/status/1…', 'indices': [112, 135]}]}, 'metadata': {'iso_language_code': 'en', 'result_type': 'recent'}, 'source': '<a href=\"https://mobile.twitter.com\" rel=\"nofollow\">Twitter Web App</a>', 'in_reply_to_status_id': None, 'in_reply_to_status_id_str': None, 'in_reply_to_user_id': None, 'in_reply_to_user_id_str': None, 'in_reply_to_screen_name': None, 'user': {'id': 1403861754808049666, 'id_str': '1403861754808049666', 'name': 'Dr. Khulood Almani | د.خلود المانع', 'screen_name': 'Khulood_Almani', 'location': 'Kingdom of Saudi Arabia', 'description': 'Top 3️⃣ #World #Tech #Leader #Metaverse #AI @getengati |📌 https://t.co/zsd5tx3QmJ📌|#CES2022 #MWC22 |التحول_الرقمي| Professor #DigitalTransformation #Innovation', 'url': 'https://t.co/wSY0VoIm9q', 'entities': {'url': {'urls': [{'url': 'https://t.co/wSY0VoIm9q', 'expanded_url': 'https://www.linkedin.com/in/dr-khulood-almani-595513162', 'display_url': 'linkedin.com/in/dr-khulood-…', 'indices': [0, 23]}]}, 'description': {'urls': [{'url': 'https://t.co/zsd5tx3QmJ', 'expanded_url': 'http://bit.ly/3ESyoWJ', 'display_url': 'bit.ly/3ESyoWJ', 'indices': [58, 81]}]}}, 'protected': False, 'followers_count': 34509, 'friends_count': 2210, 'listed_count': 118, 'created_at': 'Sat Jun 12 23:48:32 +0000 2021', 'favourites_count': 94656, 'utc_offset': None, 'time_zone': None, 'geo_enabled': False, 'verified': False, 'statuses_count': 50509, 'lang': None, 'contributors_enabled': False, 'is_translator': False, 'is_translation_enabled': False, 'profile_background_color': 'F5F8FA', 'profile_background_image_url': None, 'profile_background_image_url_https': None, 'profile_background_tile': False, 'profile_image_url': 'http://pbs.twimg.com/profile_images/1463995808685207555/KK3ECtYE_normal.jpg', 'profile_image_url_https': 'https://pbs.twimg.com/profile_images/1463995808685207555/KK3ECtYE_normal.jpg', 'profile_banner_url': 'https://pbs.twimg.com/profile_banners/1403861754808049666/1651368834', 'profile_link_color': '1DA1F2', 'profile_sidebar_border_color': 'C0DEED', 'profile_sidebar_fill_color': 'DDEEF6', 'profile_text_color': '333333', 'profile_use_background_image': True, 'has_extended_profile': False, 'default_profile': True, 'default_profile_image': False, 'following': False, 'follow_request_sent': False, 'notifications': False, 'translator_type': 'none', 'withheld_in_countries': []}, 'geo': None, 'coordinates': None, 'place': None, 'contributors': None, 'is_quote_status': False, 'retweet_count': 73, 'favorite_count': 66, 'favorited': False, 'retweeted': False, 'possibly_sensitive': False, 'lang': 'en'}, 'is_quote_status': False, 'retweet_count': 73, 'favorite_count': 0, 'favorited': False, 'retweeted': False, 'possibly_sensitive': False, 'lang': 'en'}, {'created_at': 'Mon Jul 04 05:26:05 +0000 2022', 'id': 1543828474191921154, 'id_str': '1543828474191921154', 'text': 'Deep Learning: A Visual Approach https://t.co/2puVyR4LNP  #Python #ad', 'truncated': False, 'entities': {'hashtags': [{'text': 'Python', 'indices': [58, 65]}, {'text': 'ad', 'indices': [66, 69]}], 'symbols': [], 'user_mentions': [], 'urls': [{'url': 'https://t.co/2puVyR4LNP', 'expanded_url': 'https://zpy.io/df0672a5', 'display_url': 'zpy.io/df0672a5', 'indices': [33, 56]}]}, 'metadata': {'iso_language_code': 'en', 'result_type': 'recent'}, 'source': '<a href=\"https://twitter.com/pythonbot_\" rel=\"nofollow\">Postmatico</a>', 'in_reply_to_status_id': None, 'in_reply_to_status_id_str': None, 'in_reply_to_user_id': None, 'in_reply_to_user_id_str': None, 'in_reply_to_screen_name': None, 'user': {'id': 815169124322201600, 'id_str': '815169124322201600', 'name': 'Data science', 'screen_name': 'Datascience__', 'location': '', 'description': 'All about #DataScience #MachineLearning #DeepLearning #AI #DataMining  #Bigdata #Analytics', 'url': None, 'entities': {'description': {'urls': []}}, 'protected': False, 'followers_count': 30243, 'friends_count': 13912, 'listed_count': 508, 'created_at': 'Sat Dec 31 12:13:59 +0000 2016', 'favourites_count': 218, 'utc_offset': None, 'time_zone': None, 'geo_enabled': False, 'verified': False, 'statuses_count': 257867, 'lang': None, 'contributors_enabled': False, 'is_translator': False, 'is_translation_enabled': False, 'profile_background_color': '000000', 'profile_background_image_url': 'http://abs.twimg.com/images/themes/theme1/bg.png', 'profile_background_image_url_https': 'https://abs.twimg.com/images/themes/theme1/bg.png', 'profile_background_tile': False, 'profile_image_url': 'http://pbs.twimg.com/profile_images/989066461435097088/AQZSFyuk_normal.jpg', 'profile_image_url_https': 'https://pbs.twimg.com/profile_images/989066461435097088/AQZSFyuk_normal.jpg', 'profile_banner_url': 'https://pbs.twimg.com/profile_banners/815169124322201600/1524646304', 'profile_link_color': '1B95E0', 'profile_sidebar_border_color': '000000', 'profile_sidebar_fill_color': '000000', 'profile_text_color': '000000', 'profile_use_background_image': False, 'has_extended_profile': False, 'default_profile': False, 'default_profile_image': False, 'following': False, 'follow_request_sent': False, 'notifications': False, 'translator_type': 'none', 'withheld_in_countries': []}, 'geo': None, 'coordinates': None, 'place': None, 'contributors': None, 'is_quote_status': False, 'retweet_count': 0, 'favorite_count': 0, 'favorited': False, 'retweeted': False, 'possibly_sensitive': False, 'lang': 'en'}, {'created_at': 'Mon Jul 04 05:25:37 +0000 2022', 'id': 1543828356101128193, 'id_str': '1543828356101128193', 'text': 'RT @ewriters508: Hire a professional to handle your:\\n#Assignments #Calculus #Finance #Summerclasses #Onlineclass #Homework #Accounting #Ess…', 'truncated': False, 'entities': {'hashtags': [{'text': 'Assignments', 'indices': [53, 65]}, {'text': 'Calculus', 'indices': [66, 75]}, {'text': 'Finance', 'indices': [76, 84]}, {'text': 'Summerclasses', 'indices': [85, 99]}, {'text': 'Onlineclass', 'indices': [100, 112]}, {'text': 'Homework', 'indices': [113, 122]}, {'text': 'Accounting', 'indices': [123, 134]}], 'symbols': [], 'user_mentions': [{'screen_name': 'ewriters508', 'name': 'Efficient Writers', 'id': 1463034654756323329, 'id_str': '1463034654756323329', 'indices': [3, 15]}], 'urls': []}, 'metadata': {'iso_language_code': 'en', 'result_type': 'recent'}, 'source': '<a href=\"https://www.google.com\" rel=\"nofollow\">Xeron TweetBot</a>', 'in_reply_to_status_id': None, 'in_reply_to_status_id_str': None, 'in_reply_to_user_id': None, 'in_reply_to_user_id_str': None, 'in_reply_to_screen_name': None, 'user': {'id': 1354047563280707586, 'id_str': '1354047563280707586', 'name': 'Xeron Bot', 'screen_name': 'XeronBot', 'location': 'Crawling Twitter', 'description': 'Beep! Boop!\\nI am a Bot that likes and retweets latest tweets with #100DaysOfCode', 'url': None, 'entities': {'description': {'urls': []}}, 'protected': False, 'followers_count': 1700, 'friends_count': 1, 'listed_count': 22, 'created_at': 'Tue Jan 26 12:44:42 +0000 2021', 'favourites_count': 121302, 'utc_offset': None, 'time_zone': None, 'geo_enabled': False, 'verified': False, 'statuses_count': 475476, 'lang': None, 'contributors_enabled': False, 'is_translator': False, 'is_translation_enabled': False, 'profile_background_color': 'F5F8FA', 'profile_background_image_url': None, 'profile_background_image_url_https': None, 'profile_background_tile': False, 'profile_image_url': 'http://pbs.twimg.com/profile_images/1433726545466560518/ot8jDEO6_normal.jpg', 'profile_image_url_https': 'https://pbs.twimg.com/profile_images/1433726545466560518/ot8jDEO6_normal.jpg', 'profile_banner_url': 'https://pbs.twimg.com/profile_banners/1354047563280707586/1630662204', 'profile_link_color': '1DA1F2', 'profile_sidebar_border_color': 'C0DEED', 'profile_sidebar_fill_color': 'DDEEF6', 'profile_text_color': '333333', 'profile_use_background_image': True, 'has_extended_profile': False, 'default_profile': True, 'default_profile_image': False, 'following': False, 'follow_request_sent': False, 'notifications': False, 'translator_type': 'none', 'withheld_in_countries': []}, 'geo': None, 'coordinates': None, 'place': None, 'contributors': None, 'retweeted_status': {'created_at': 'Mon Jul 04 00:08:06 +0000 2022', 'id': 1543748449149018113, 'id_str': '1543748449149018113', 'text': 'Hire a professional to handle your:\\n#Assignments #Calculus #Finance #Summerclasses #Onlineclass #Homework… https://t.co/a5QcAqfYUU', 'truncated': True, 'entities': {'hashtags': [{'text': 'Assignments', 'indices': [36, 48]}, {'text': 'Calculus', 'indices': [49, 58]}, {'text': 'Finance', 'indices': [59, 67]}, {'text': 'Summerclasses', 'indices': [68, 82]}, {'text': 'Onlineclass', 'indices': [83, 95]}, {'text': 'Homework', 'indices': [96, 105]}], 'symbols': [], 'user_mentions': [], 'urls': [{'url': 'https://t.co/a5QcAqfYUU', 'expanded_url': 'https://twitter.com/i/web/status/1543748449149018113', 'display_url': 'twitter.com/i/web/status/1…', 'indices': [107, 130]}]}, 'metadata': {'iso_language_code': 'en', 'result_type': 'recent'}, 'source': '<a href=\"http://twitter.com/download/android\" rel=\"nofollow\">Twitter for Android</a>', 'in_reply_to_status_id': None, 'in_reply_to_status_id_str': None, 'in_reply_to_user_id': None, 'in_reply_to_user_id_str': None, 'in_reply_to_screen_name': None, 'user': {'id': 1463034654756323329, 'id_str': '1463034654756323329', 'name': 'Efficient Writers', 'screen_name': 'ewriters508', 'location': 'Texas, USA', 'description': 'Need someone to take your ONLINE CLASSES,write your ESSAYS, Dissertations,do your MATHS tests & handle your assignments? \\nKindly HMU for help.+1 (779) 333-5414', 'url': None, 'entities': {'description': {'urls': []}}, 'protected': False, 'followers_count': 92, 'friends_count': 475, 'listed_count': 0, 'created_at': 'Tue Nov 23 06:41:23 +0000 2021', 'favourites_count': 1125, 'utc_offset': None, 'time_zone': None, 'geo_enabled': False, 'verified': False, 'statuses_count': 543, 'lang': None, 'contributors_enabled': False, 'is_translator': False, 'is_translation_enabled': False, 'profile_background_color': 'F5F8FA', 'profile_background_image_url': None, 'profile_background_image_url_https': None, 'profile_background_tile': False, 'profile_image_url': 'http://pbs.twimg.com/profile_images/1531774647439659009/ejsICGq6_normal.jpg', 'profile_image_url_https': 'https://pbs.twimg.com/profile_images/1531774647439659009/ejsICGq6_normal.jpg', 'profile_banner_url': 'https://pbs.twimg.com/profile_banners/1463034654756323329/1637654019', 'profile_link_color': '1DA1F2', 'profile_sidebar_border_color': 'C0DEED', 'profile_sidebar_fill_color': 'DDEEF6', 'profile_text_color': '333333', 'profile_use_background_image': True, 'has_extended_profile': False, 'default_profile': True, 'default_profile_image': False, 'following': False, 'follow_request_sent': False, 'notifications': False, 'translator_type': 'none', 'withheld_in_countries': []}, 'geo': None, 'coordinates': None, 'place': None, 'contributors': None, 'is_quote_status': False, 'retweet_count': 8, 'favorite_count': 4, 'favorited': False, 'retweeted': False, 'lang': 'en'}, 'is_quote_status': False, 'retweet_count': 8, 'favorite_count': 0, 'favorited': False, 'retweeted': False, 'lang': 'en'}, {'created_at': 'Mon Jul 04 05:25:37 +0000 2022', 'id': 1543828354461155328, 'id_str': '1543828354461155328', 'text': 'Hit me up for all your essay dues \\nessay due\\nfinance\\npaper pay\\ndo my homework\\nonline class\\nessay help\\nenglish\\nassig… https://t.co/Wiz1kr7trv', 'truncated': True, 'entities': {'hashtags': [], 'symbols': [], 'user_mentions': [], 'urls': [{'url': 'https://t.co/Wiz1kr7trv', 'expanded_url': 'https://twitter.com/i/web/status/1543828354461155328', 'display_url': 'twitter.com/i/web/status/1…', 'indices': [117, 140]}]}, 'metadata': {'iso_language_code': 'en', 'result_type': 'recent'}, 'source': '<a href=\"http://twitter.com/download/android\" rel=\"nofollow\">Twitter for Android</a>', 'in_reply_to_status_id': None, 'in_reply_to_status_id_str': None, 'in_reply_to_user_id': None, 'in_reply_to_user_id_str': None, 'in_reply_to_screen_name': None, 'user': {'id': 1347860234983923712, 'id_str': '1347860234983923712', 'name': 'Real Time Writers', 'screen_name': 'veronica_help', 'location': 'Virginia, USA', 'description': 'A team of experts who help in H/w and exams#Math, Essays,chem ,Research papers and all other academic related services. kindly Dm for our legit Assistance Thnks', 'url': None, 'entities': {'description': {'urls': []}}, 'protected': False, 'followers_count': 1198, 'friends_count': 3212, 'listed_count': 2, 'created_at': 'Sat Jan 09 10:59:36 +0000 2021', 'favourites_count': 400, 'utc_offset': None, 'time_zone': None, 'geo_enabled': False, 'verified': False, 'statuses_count': 7687, 'lang': None, 'contributors_enabled': False, 'is_translator': False, 'is_translation_enabled': False, 'profile_background_color': 'F5F8FA', 'profile_background_image_url': None, 'profile_background_image_url_https': None, 'profile_background_tile': False, 'profile_image_url': 'http://pbs.twimg.com/profile_images/1372956237621563395/kZIExlVf_normal.jpg', 'profile_image_url_https': 'https://pbs.twimg.com/profile_images/1372956237621563395/kZIExlVf_normal.jpg', 'profile_banner_url': 'https://pbs.twimg.com/profile_banners/1347860234983923712/1616174287', 'profile_link_color': '1DA1F2', 'profile_sidebar_border_color': 'C0DEED', 'profile_sidebar_fill_color': 'DDEEF6', 'profile_text_color': '333333', 'profile_use_background_image': True, 'has_extended_profile': True, 'default_profile': True, 'default_profile_image': False, 'following': False, 'follow_request_sent': False, 'notifications': False, 'translator_type': 'none', 'withheld_in_countries': []}, 'geo': None, 'coordinates': None, 'place': None, 'contributors': None, 'is_quote_status': False, 'retweet_count': 0, 'favorite_count': 0, 'favorited': False, 'retweeted': False, 'lang': 'en'}, {'created_at': 'Mon Jul 04 05:25:32 +0000 2022', 'id': 1543828334399954944, 'id_str': '1543828334399954944', 'text': 'RT @ewriters508: Hire a professional to handle your:\\n#Assignments #Calculus #Finance #Summerclasses #Onlineclass #Homework #Accounting #Ess…', 'truncated': False, 'entities': {'hashtags': [{'text': 'Assignments', 'indices': [53, 65]}, {'text': 'Calculus', 'indices': [66, 75]}, {'text': 'Finance', 'indices': [76, 84]}, {'text': 'Summerclasses', 'indices': [85, 99]}, {'text': 'Onlineclass', 'indices': [100, 112]}, {'text': 'Homework', 'indices': [113, 122]}, {'text': 'Accounting', 'indices': [123, 134]}], 'symbols': [], 'user_mentions': [{'screen_name': 'ewriters508', 'name': 'Efficient Writers', 'id': 1463034654756323329, 'id_str': '1463034654756323329', 'indices': [3, 15]}], 'urls': []}, 'metadata': {'iso_language_code': 'en', 'result_type': 'recent'}, 'source': '<a href=\"https://help.twitter.com/en/using-twitter/how-to-tweet#source-labels\" rel=\"nofollow\">education-bot</a>', 'in_reply_to_status_id': None, 'in_reply_to_status_id_str': None, 'in_reply_to_user_id': None, 'in_reply_to_user_id_str': None, 'in_reply_to_screen_name': None, 'user': {'id': 1295715136141963267, 'id_str': '1295715136141963267', 'name': 'Education World', 'screen_name': 'education_24x7', 'location': 'Delhi', 'description': 'All education content. Education changes the life.\\nSoftware Developer| ML | DS | Technical Blogging at https://t.co/WNErKjwYtH |', 'url': 'https://t.co/e6rkb3X12F', 'entities': {'url': {'urls': [{'url': 'https://t.co/e6rkb3X12F', 'expanded_url': 'http://collegebricks.com', 'display_url': 'collegebricks.com', 'indices': [0, 23]}]}, 'description': {'urls': [{'url': 'https://t.co/WNErKjwYtH', 'expanded_url': 'http://techmorf.com', 'display_url': 'techmorf.com', 'indices': [103, 126]}]}}, 'protected': False, 'followers_count': 7604, 'friends_count': 7, 'listed_count': 105, 'created_at': 'Tue Aug 18 13:32:42 +0000 2020', 'favourites_count': 18, 'utc_offset': None, 'time_zone': None, 'geo_enabled': False, 'verified': False, 'statuses_count': 646081, 'lang': None, 'contributors_enabled': False, 'is_translator': False, 'is_translation_enabled': False, 'profile_background_color': 'F5F8FA', 'profile_background_image_url': None, 'profile_background_image_url_https': None, 'profile_background_tile': False, 'profile_image_url': 'http://pbs.twimg.com/profile_images/1387823590649724931/aQPAm5FU_normal.jpg', 'profile_image_url_https': 'https://pbs.twimg.com/profile_images/1387823590649724931/aQPAm5FU_normal.jpg', 'profile_link_color': '1DA1F2', 'profile_sidebar_border_color': 'C0DEED', 'profile_sidebar_fill_color': 'DDEEF6', 'profile_text_color': '333333', 'profile_use_background_image': True, 'has_extended_profile': True, 'default_profile': True, 'default_profile_image': False, 'following': False, 'follow_request_sent': False, 'notifications': False, 'translator_type': 'none', 'withheld_in_countries': []}, 'geo': None, 'coordinates': None, 'place': None, 'contributors': None, 'retweeted_status': {'created_at': 'Mon Jul 04 00:08:06 +0000 2022', 'id': 1543748449149018113, 'id_str': '1543748449149018113', 'text': 'Hire a professional to handle your:\\n#Assignments #Calculus #Finance #Summerclasses #Onlineclass #Homework… https://t.co/a5QcAqfYUU', 'truncated': True, 'entities': {'hashtags': [{'text': 'Assignments', 'indices': [36, 48]}, {'text': 'Calculus', 'indices': [49, 58]}, {'text': 'Finance', 'indices': [59, 67]}, {'text': 'Summerclasses', 'indices': [68, 82]}, {'text': 'Onlineclass', 'indices': [83, 95]}, {'text': 'Homework', 'indices': [96, 105]}], 'symbols': [], 'user_mentions': [], 'urls': [{'url': 'https://t.co/a5QcAqfYUU', 'expanded_url': 'https://twitter.com/i/web/status/1543748449149018113', 'display_url': 'twitter.com/i/web/status/1…', 'indices': [107, 130]}]}, 'metadata': {'iso_language_code': 'en', 'result_type': 'recent'}, 'source': '<a href=\"http://twitter.com/download/android\" rel=\"nofollow\">Twitter for Android</a>', 'in_reply_to_status_id': None, 'in_reply_to_status_id_str': None, 'in_reply_to_user_id': None, 'in_reply_to_user_id_str': None, 'in_reply_to_screen_name': None, 'user': {'id': 1463034654756323329, 'id_str': '1463034654756323329', 'name': 'Efficient Writers', 'screen_name': 'ewriters508', 'location': 'Texas, USA', 'description': 'Need someone to take your ONLINE CLASSES,write your ESSAYS, Dissertations,do your MATHS tests & handle your assignments? \\nKindly HMU for help.+1 (779) 333-5414', 'url': None, 'entities': {'description': {'urls': []}}, 'protected': False, 'followers_count': 92, 'friends_count': 475, 'listed_count': 0, 'created_at': 'Tue Nov 23 06:41:23 +0000 2021', 'favourites_count': 1125, 'utc_offset': None, 'time_zone': None, 'geo_enabled': False, 'verified': False, 'statuses_count': 543, 'lang': None, 'contributors_enabled': False, 'is_translator': False, 'is_translation_enabled': False, 'profile_background_color': 'F5F8FA', 'profile_background_image_url': None, 'profile_background_image_url_https': None, 'profile_background_tile': False, 'profile_image_url': 'http://pbs.twimg.com/profile_images/1531774647439659009/ejsICGq6_normal.jpg', 'profile_image_url_https': 'https://pbs.twimg.com/profile_images/1531774647439659009/ejsICGq6_normal.jpg', 'profile_banner_url': 'https://pbs.twimg.com/profile_banners/1463034654756323329/1637654019', 'profile_link_color': '1DA1F2', 'profile_sidebar_border_color': 'C0DEED', 'profile_sidebar_fill_color': 'DDEEF6', 'profile_text_color': '333333', 'profile_use_background_image': True, 'has_extended_profile': False, 'default_profile': True, 'default_profile_image': False, 'following': False, 'follow_request_sent': False, 'notifications': False, 'translator_type': 'none', 'withheld_in_countries': []}, 'geo': None, 'coordinates': None, 'place': None, 'contributors': None, 'is_quote_status': False, 'retweet_count': 8, 'favorite_count': 4, 'favorited': False, 'retweeted': False, 'lang': 'en'}, 'is_quote_status': False, 'retweet_count': 8, 'favorite_count': 0, 'favorited': False, 'retweeted': False, 'lang': 'en'}, {'created_at': 'Mon Jul 04 05:25:25 +0000 2022', 'id': 1543828302892511232, 'id_str': '1543828302892511232', 'text': 'Comment below!! 🧑\\u200d💻🧑\\u200d💻\\n\\n#coding #programmer #programming #java #javascript #python #softwaredeveloper #code #php… https://t.co/HqXy9RbSyB', 'truncated': True, 'entities': {'hashtags': [{'text': 'coding', 'indices': [24, 31]}, {'text': 'programmer', 'indices': [32, 43]}, {'text': 'programming', 'indices': [44, 56]}, {'text': 'java', 'indices': [57, 62]}, {'text': 'javascript', 'indices': [63, 74]}, {'text': 'python', 'indices': [75, 82]}, {'text': 'softwaredeveloper', 'indices': [83, 101]}, {'text': 'code', 'indices': [102, 107]}, {'text': 'php', 'indices': [108, 112]}], 'symbols': [], 'user_mentions': [], 'urls': [{'url': 'https://t.co/HqXy9RbSyB', 'expanded_url': 'https://twitter.com/i/web/status/1543828302892511232', 'display_url': 'twitter.com/i/web/status/1…', 'indices': [114, 137]}]}, 'metadata': {'iso_language_code': 'fr', 'result_type': 'recent'}, 'source': '<a href=\"https://mobile.twitter.com\" rel=\"nofollow\">Twitter Web App</a>', 'in_reply_to_status_id': None, 'in_reply_to_status_id_str': None, 'in_reply_to_user_id': None, 'in_reply_to_user_id_str': None, 'in_reply_to_screen_name': None, 'user': {'id': 901897128590565376, 'id_str': '901897128590565376', 'name': 'Omnist Techhub', 'screen_name': 'omnist_techhub', 'location': 'Noida, India', 'description': '#1 Top-rated Mobile App Developer 2021 \\nOmnist Techhub is a leading mobile app development company With global presence and offices in India, USA, EMEA and APAC', 'url': 'https://t.co/QfihFzjdFc', 'entities': {'url': {'urls': [{'url': 'https://t.co/QfihFzjdFc', 'expanded_url': 'https://www.omnisttechhub.com/', 'display_url': 'omnisttechhub.com', 'indices': [0, 23]}]}, 'description': {'urls': []}}, 'protected': False, 'followers_count': 126, 'friends_count': 460, 'listed_count': 3, 'created_at': 'Sun Aug 27 20:00:06 +0000 2017', 'favourites_count': 114, 'utc_offset': None, 'time_zone': None, 'geo_enabled': True, 'verified': False, 'statuses_count': 399, 'lang': None, 'contributors_enabled': False, 'is_translator': False, 'is_translation_enabled': False, 'profile_background_color': 'F5F8FA', 'profile_background_image_url': None, 'profile_background_image_url_https': None, 'profile_background_tile': False, 'profile_image_url': 'http://pbs.twimg.com/profile_images/1534827644503457793/7wuKZkBf_normal.png', 'profile_image_url_https': 'https://pbs.twimg.com/profile_images/1534827644503457793/7wuKZkBf_normal.png', 'profile_banner_url': 'https://pbs.twimg.com/profile_banners/901897128590565376/1522047089', 'profile_link_color': '1DA1F2', 'profile_sidebar_border_color': 'C0DEED', 'profile_sidebar_fill_color': 'DDEEF6', 'profile_text_color': '333333', 'profile_use_background_image': True, 'has_extended_profile': True, 'default_profile': True, 'default_profile_image': False, 'following': False, 'follow_request_sent': False, 'notifications': False, 'translator_type': 'none', 'withheld_in_countries': []}, 'geo': None, 'coordinates': None, 'place': None, 'contributors': None, 'is_quote_status': False, 'retweet_count': 0, 'favorite_count': 1, 'favorited': False, 'retweeted': False, 'possibly_sensitive': False, 'lang': 'fr'}, {'created_at': 'Mon Jul 04 05:25:12 +0000 2022', 'id': 1543828252158033921, 'id_str': '1543828252158033921', 'text': 'RT @PythonWithRune: #100DaysOfCode inspired me to this blog\\n\\nHow to make Feature Scaling with pandas DataFrames\\n- Step 1: What is Feature S…', 'truncated': False, 'entities': {'hashtags': [{'text': '100DaysOfCode', 'indices': [20, 34]}], 'symbols': [], 'user_mentions': [{'screen_name': 'PythonWithRune', 'name': 'Learn Python With Rune', 'id': 1263177420934459396, 'id_str': '1263177420934459396', 'indices': [3, 18]}], 'urls': []}, 'metadata': {'iso_language_code': 'en', 'result_type': 'recent'}, 'source': '<a href=\"http://twitter.com/download/android\" rel=\"nofollow\">Twitter for Android</a>', 'in_reply_to_status_id': None, 'in_reply_to_status_id_str': None, 'in_reply_to_user_id': None, 'in_reply_to_user_id_str': None, 'in_reply_to_screen_name': None, 'user': {'id': 4725969527, 'id_str': '4725969527', 'name': 'Libertè.Egalitè.Actualitè', 'screen_name': 'bengurion77', 'location': '', 'description': '', 'url': None, 'entities': {'description': {'urls': []}}, 'protected': False, 'followers_count': 415, 'friends_count': 428, 'listed_count': 0, 'created_at': 'Wed Jan 06 15:49:41 +0000 2016', 'favourites_count': 2009, 'utc_offset': None, 'time_zone': None, 'geo_enabled': False, 'verified': False, 'statuses_count': 804, 'lang': None, 'contributors_enabled': False, 'is_translator': False, 'is_translation_enabled': False, 'profile_background_color': 'F5F8FA', 'profile_background_image_url': None, 'profile_background_image_url_https': None, 'profile_background_tile': False, 'profile_image_url': 'http://pbs.twimg.com/profile_images/684764897700397056/D3dfi5iG_normal.jpg', 'profile_image_url_https': 'https://pbs.twimg.com/profile_images/684764897700397056/D3dfi5iG_normal.jpg', 'profile_link_color': '1DA1F2', 'profile_sidebar_border_color': 'C0DEED', 'profile_sidebar_fill_color': 'DDEEF6', 'profile_text_color': '333333', 'profile_use_background_image': True, 'has_extended_profile': False, 'default_profile': True, 'default_profile_image': False, 'following': False, 'follow_request_sent': False, 'notifications': False, 'translator_type': 'none', 'withheld_in_countries': []}, 'geo': None, 'coordinates': None, 'place': None, 'contributors': None, 'retweeted_status': {'created_at': 'Mon Jul 04 02:35:04 +0000 2022', 'id': 1543785433007538177, 'id_str': '1543785433007538177', 'text': '#100DaysOfCode inspired me to this blog\\n\\nHow to make Feature Scaling with pandas DataFrames\\n- Step 1: What is Featu… https://t.co/y1SuxByuFg', 'truncated': True, 'entities': {'hashtags': [{'text': '100DaysOfCode', 'indices': [0, 14]}], 'symbols': [], 'user_mentions': [], 'urls': [{'url': 'https://t.co/y1SuxByuFg', 'expanded_url': 'https://twitter.com/i/web/status/1543785433007538177', 'display_url': 'twitter.com/i/web/status/1…', 'indices': [117, 140]}]}, 'metadata': {'iso_language_code': 'en', 'result_type': 'recent'}, 'source': '<a href=\"https://www.learnpythonwithrune.org\" rel=\"nofollow\">TweetAMessage</a>', 'in_reply_to_status_id': None, 'in_reply_to_status_id_str': None, 'in_reply_to_user_id': None, 'in_reply_to_user_id_str': None, 'in_reply_to_screen_name': None, 'user': {'id': 1263177420934459396, 'id_str': '1263177420934459396', 'name': 'Learn Python With Rune', 'screen_name': 'PythonWithRune', 'location': 'Copenhagen, Denmark', 'description': 'I help people succeed with Python for Machine Learning / Data Science / Finance | Content Creator 🤟 YouTuber 🤙 FREE Python Courses 🖖', 'url': 'https://t.co/uzRSrA44vv', 'entities': {'url': {'urls': [{'url': 'https://t.co/uzRSrA44vv', 'expanded_url': 'http://learnpythonwithrune.org', 'display_url': 'learnpythonwithrune.org', 'indices': [0, 23]}]}, 'description': {'urls': []}}, 'protected': False, 'followers_count': 18054, 'friends_count': 48, 'listed_count': 300, 'created_at': 'Wed May 20 18:39:20 +0000 2020', 'favourites_count': 27079, 'utc_offset': None, 'time_zone': None, 'geo_enabled': False, 'verified': False, 'statuses_count': 15092, 'lang': None, 'contributors_enabled': False, 'is_translator': False, 'is_translation_enabled': False, 'profile_background_color': 'F5F8FA', 'profile_background_image_url': None, 'profile_background_image_url_https': None, 'profile_background_tile': False, 'profile_image_url': 'http://pbs.twimg.com/profile_images/1265295224919789568/1ANQPcl7_normal.jpg', 'profile_image_url_https': 'https://pbs.twimg.com/profile_images/1265295224919789568/1ANQPcl7_normal.jpg', 'profile_banner_url': 'https://pbs.twimg.com/profile_banners/1263177420934459396/1651502281', 'profile_link_color': '1DA1F2', 'profile_sidebar_border_color': 'C0DEED', 'profile_sidebar_fill_color': 'DDEEF6', 'profile_text_color': '333333', 'profile_use_background_image': True, 'has_extended_profile': False, 'default_profile': True, 'default_profile_image': False, 'following': False, 'follow_request_sent': False, 'notifications': False, 'translator_type': 'none', 'withheld_in_countries': []}, 'geo': None, 'coordinates': None, 'place': None, 'contributors': None, 'is_quote_status': False, 'retweet_count': 7, 'favorite_count': 12, 'favorited': False, 'retweeted': False, 'possibly_sensitive': False, 'lang': 'en'}, 'is_quote_status': False, 'retweet_count': 7, 'favorite_count': 0, 'favorited': False, 'retweeted': False, 'lang': 'en'}, {'created_at': 'Mon Jul 04 05:25:07 +0000 2022', 'id': 1543828231412908032, 'id_str': '1543828231412908032', 'text': 'RT @three_cube: Wi-Fi (802.11) Hacking: Creating a Wi-Fi Scanner with Scapy and Python #python #scapy #wifihacking #cybersecurity #cyberwar…', 'truncated': False, 'entities': {'hashtags': [{'text': 'python', 'indices': [87, 94]}, {'text': 'scapy', 'indices': [95, 101]}, {'text': 'wifihacking', 'indices': [102, 114]}, {'text': 'cybersecurity', 'indices': [115, 129]}], 'symbols': [], 'user_mentions': [{'screen_name': 'three_cube', 'name': 'OccupytheWeb', 'id': 443369826, 'id_str': '443369826', 'indices': [3, 14]}], 'urls': []}, 'metadata': {'iso_language_code': 'en', 'result_type': 'recent'}, 'source': '<a href=\"http://twitter.com/download/android\" rel=\"nofollow\">Twitter for Android</a>', 'in_reply_to_status_id': None, 'in_reply_to_status_id_str': None, 'in_reply_to_user_id': None, 'in_reply_to_user_id_str': None, 'in_reply_to_screen_name': None, 'user': {'id': 267267664, 'id_str': '267267664', 'name': 'muradd', 'screen_name': 'murattorun25', 'location': 'Ankara, Türkiye', 'description': '', 'url': None, 'entities': {'description': {'urls': []}}, 'protected': False, 'followers_count': 19, 'friends_count': 341, 'listed_count': 0, 'created_at': 'Wed Mar 16 16:29:39 +0000 2011', 'favourites_count': 69, 'utc_offset': None, 'time_zone': None, 'geo_enabled': False, 'verified': False, 'statuses_count': 1045, 'lang': None, 'contributors_enabled': False, 'is_translator': False, 'is_translation_enabled': False, 'profile_background_color': 'EBEBEB', 'profile_background_image_url': 'http://abs.twimg.com/images/themes/theme7/bg.gif', 'profile_background_image_url_https': 'https://abs.twimg.com/images/themes/theme7/bg.gif', 'profile_background_tile': False, 'profile_image_url': 'http://pbs.twimg.com/profile_images/1533668817301393408/0ivHeHjS_normal.jpg', 'profile_image_url_https': 'https://pbs.twimg.com/profile_images/1533668817301393408/0ivHeHjS_normal.jpg', 'profile_link_color': '990000', 'profile_sidebar_border_color': 'DFDFDF', 'profile_sidebar_fill_color': 'F3F3F3', 'profile_text_color': '333333', 'profile_use_background_image': True, 'has_extended_profile': False, 'default_profile': False, 'default_profile_image': False, 'following': False, 'follow_request_sent': False, 'notifications': False, 'translator_type': 'none', 'withheld_in_countries': []}, 'geo': None, 'coordinates': None, 'place': None, 'contributors': None, 'retweeted_status': {'created_at': 'Sun Jul 03 11:49:31 +0000 2022', 'id': 1543562577162035201, 'id_str': '1543562577162035201', 'text': 'Wi-Fi (802.11) Hacking: Creating a Wi-Fi Scanner with Scapy and Python #python #scapy #wifihacking #cybersecurity… https://t.co/7DbWnruDGG', 'truncated': True, 'entities': {'hashtags': [{'text': 'python', 'indices': [71, 78]}, {'text': 'scapy', 'indices': [79, 85]}, {'text': 'wifihacking', 'indices': [86, 98]}, {'text': 'cybersecurity', 'indices': [99, 113]}], 'symbols': [], 'user_mentions': [], 'urls': [{'url': 'https://t.co/7DbWnruDGG', 'expanded_url': 'https://twitter.com/i/web/status/1543562577162035201', 'display_url': 'twitter.com/i/web/status/1…', 'indices': [115, 138]}]}, 'metadata': {'iso_language_code': 'en', 'result_type': 'recent'}, 'source': '<a href=\"http://twitter.com/download/android\" rel=\"nofollow\">Twitter for Android</a>', 'in_reply_to_status_id': None, 'in_reply_to_status_id_str': None, 'in_reply_to_user_id': None, 'in_reply_to_user_id_str': None, 'in_reply_to_screen_name': None, 'user': {'id': 443369826, 'id_str': '443369826', 'name': 'OccupytheWeb', 'screen_name': 'three_cube', 'location': '', 'description': 'Pentester, Forensic investigator, and former college  professor. Trained hackers at every branch of US military and intelligence.\\n\\nVisit me at https://t.co/G478wufszw', 'url': None, 'entities': {'description': {'urls': [{'url': 'https://t.co/G478wufszw', 'expanded_url': 'http://hackers-arise.com', 'display_url': 'hackers-arise.com', 'indices': [143, 166]}]}}, 'protected': False, 'followers_count': 118592, 'friends_count': 2992, 'listed_count': 1054, 'created_at': 'Thu Dec 22 03:33:54 +0000 2011', 'favourites_count': 3115, 'utc_offset': None, 'time_zone': None, 'geo_enabled': False, 'verified': False, 'statuses_count': 58507, 'lang': None, 'contributors_enabled': False, 'is_translator': False, 'is_translation_enabled': False, 'profile_background_color': 'C0DEED', 'profile_background_image_url': 'http://abs.twimg.com/images/themes/theme1/bg.png', 'profile_background_image_url_https': 'https://abs.twimg.com/images/themes/theme1/bg.png', 'profile_background_tile': False, 'profile_image_url': 'http://pbs.twimg.com/profile_images/378800000080433150/15a3611a51ea416c857ba088cdff7d78_normal.jpeg', 'profile_image_url_https': 'https://pbs.twimg.com/profile_images/378800000080433150/15a3611a51ea416c857ba088cdff7d78_normal.jpeg', 'profile_banner_url': 'https://pbs.twimg.com/profile_banners/443369826/1636736744', 'profile_link_color': '1DA1F2', 'profile_sidebar_border_color': 'C0DEED', 'profile_sidebar_fill_color': 'DDEEF6', 'profile_text_color': '333333', 'profile_use_background_image': True, 'has_extended_profile': False, 'default_profile': True, 'default_profile_image': False, 'following': False, 'follow_request_sent': False, 'notifications': False, 'translator_type': 'none', 'withheld_in_countries': []}, 'geo': None, 'coordinates': None, 'place': None, 'contributors': None, 'is_quote_status': False, 'retweet_count': 48, 'favorite_count': 134, 'favorited': False, 'retweeted': False, 'possibly_sensitive': False, 'lang': 'en'}, 'is_quote_status': False, 'retweet_count': 48, 'favorite_count': 0, 'favorited': False, 'retweeted': False, 'lang': 'en'}, {'created_at': 'Mon Jul 04 05:25:07 +0000 2022', 'id': 1543828230657949696, 'id_str': '1543828230657949696', 'text': 'RT @VeilleCyber3: Le MOOC de la CNIL propose un nouveau module dédié aux collectivités territoriales\\nhttps://t.co/qxrq1h6GFF\\n\\n#cryptocurren…', 'truncated': False, 'entities': {'hashtags': [], 'symbols': [], 'user_mentions': [{'screen_name': 'VeilleCyber3', 'name': 'Cybersécurité, IA, Metavers, Cryptomonnaies', 'id': 1273173749492219905, 'id_str': '1273173749492219905', 'indices': [3, 16]}], 'urls': [{'url': 'https://t.co/qxrq1h6GFF', 'expanded_url': 'http://ow.ly/Pizw50JLnmo', 'display_url': 'ow.ly/Pizw50JLnmo', 'indices': [101, 124]}]}, 'metadata': {'iso_language_code': 'fr', 'result_type': 'recent'}, 'source': '<a href=\"https://developer.twitter.com/\" rel=\"nofollow\">TheWeb3Bot</a>', 'in_reply_to_status_id': None, 'in_reply_to_status_id_str': None, 'in_reply_to_user_id': None, 'in_reply_to_user_id_str': None, 'in_reply_to_screen_name': None, 'user': {'id': 1509738199526125581, 'id_str': '1509738199526125581', 'name': 'Web3Bot', 'screen_name': 'TheWeb3Bot', 'location': '', 'description': 'I am a bot, I will retweet \"everything\" with #Web3. Created by @edgaralealr', 'url': None, 'entities': {'description': {'urls': []}}, 'protected': False, 'followers_count': 1404, 'friends_count': 3, 'listed_count': 5, 'created_at': 'Fri Apr 01 03:43:50 +0000 2022', 'favourites_count': 2, 'utc_offset': None, 'time_zone': None, 'geo_enabled': False, 'verified': False, 'statuses_count': 168408, 'lang': None, 'contributors_enabled': False, 'is_translator': False, 'is_translation_enabled': False, 'profile_background_color': 'F5F8FA', 'profile_background_image_url': None, 'profile_background_image_url_https': None, 'profile_background_tile': False, 'profile_image_url': 'http://pbs.twimg.com/profile_images/1511136608753442821/sI-npPfu_normal.jpg', 'profile_image_url_https': 'https://pbs.twimg.com/profile_images/1511136608753442821/sI-npPfu_normal.jpg', 'profile_banner_url': 'https://pbs.twimg.com/profile_banners/1509738199526125581/1649119239', 'profile_link_color': '1DA1F2', 'profile_sidebar_border_color': 'C0DEED', 'profile_sidebar_fill_color': 'DDEEF6', 'profile_text_color': '333333', 'profile_use_background_image': True, 'has_extended_profile': True, 'default_profile': True, 'default_profile_image': False, 'following': False, 'follow_request_sent': False, 'notifications': False, 'translator_type': 'none', 'withheld_in_countries': []}, 'geo': None, 'coordinates': None, 'place': None, 'contributors': None, 'retweeted_status': {'created_at': 'Mon Jul 04 05:25:02 +0000 2022', 'id': 1543828208423997440, 'id_str': '1543828208423997440', 'text': 'Le MOOC de la CNIL propose un nouveau module dédié aux collectivités territoriales\\nhttps://t.co/qxrq1h6GFF… https://t.co/3vwV1MYJHP', 'truncated': True, 'entities': {'hashtags': [], 'symbols': [], 'user_mentions': [], 'urls': [{'url': 'https://t.co/qxrq1h6GFF', 'expanded_url': 'http://ow.ly/Pizw50JLnmo', 'display_url': 'ow.ly/Pizw50JLnmo', 'indices': [83, 106]}, {'url': 'https://t.co/3vwV1MYJHP', 'expanded_url': 'https://twitter.com/i/web/status/1543828208423997440', 'display_url': 'twitter.com/i/web/status/1…', 'indices': [108, 131]}]}, 'metadata': {'iso_language_code': 'fr', 'result_type': 'recent'}, 'source': '<a href=\"https://www.hootsuite.com\" rel=\"nofollow\">Hootsuite Inc.</a>', 'in_reply_to_status_id': None, 'in_reply_to_status_id_str': None, 'in_reply_to_user_id': None, 'in_reply_to_user_id_str': None, 'in_reply_to_screen_name': None, 'user': {'id': 1273173749492219905, 'id_str': '1273173749492219905', 'name': 'Cybersécurité, IA, Metavers, Cryptomonnaies', 'screen_name': 'VeilleCyber3', 'location': 'Paris', 'description': 'Top 10 Influencers #insurtech / #cybersecurity #Metaverse #AI #crypto #intelligenceartificielle #cybersecurite #bitcoin @Probe_IT_', 'url': 'https://t.co/yCUYTmGzZa', 'entities': {'url': {'urls': [{'url': 'https://t.co/yCUYTmGzZa', 'expanded_url': 'https://veille-cyber.com/', 'display_url': 'veille-cyber.com', 'indices': [0, 23]}]}, 'description': {'urls': []}}, 'protected': False, 'followers_count': 2644, 'friends_count': 149, 'listed_count': 70, 'created_at': 'Wed Jun 17 08:41:18 +0000 2020', 'favourites_count': 9198, 'utc_offset': None, 'time_zone': None, 'geo_enabled': False, 'verified': False, 'statuses_count': 14282, 'lang': None, 'contributors_enabled': False, 'is_translator': False, 'is_translation_enabled': False, 'profile_background_color': 'F5F8FA', 'profile_background_image_url': None, 'profile_background_image_url_https': None, 'profile_background_tile': False, 'profile_image_url': 'http://pbs.twimg.com/profile_images/1524765050124263426/qyqnDvVj_normal.jpg', 'profile_image_url_https': 'https://pbs.twimg.com/profile_images/1524765050124263426/qyqnDvVj_normal.jpg', 'profile_banner_url': 'https://pbs.twimg.com/profile_banners/1273173749492219905/1655198243', 'profile_link_color': '1DA1F2', 'profile_sidebar_border_color': 'C0DEED', 'profile_sidebar_fill_color': 'DDEEF6', 'profile_text_color': '333333', 'profile_use_background_image': True, 'has_extended_profile': True, 'default_profile': True, 'default_profile_image': False, 'following': False, 'follow_request_sent': False, 'notifications': False, 'translator_type': 'none', 'withheld_in_countries': []}, 'geo': None, 'coordinates': None, 'place': None, 'contributors': None, 'is_quote_status': False, 'retweet_count': 1, 'favorite_count': 0, 'favorited': False, 'retweeted': False, 'possibly_sensitive': False, 'lang': 'fr'}, 'is_quote_status': False, 'retweet_count': 1, 'favorite_count': 0, 'favorited': False, 'retweeted': False, 'possibly_sensitive': False, 'lang': 'fr'}, {'created_at': 'Mon Jul 04 05:25:07 +0000 2022', 'id': 1543828228808245248, 'id_str': '1543828228808245248', 'text': 'RT @rasangarocks: The Practical Python: 100+ Practical Example Projects (2nd Edition)\\n\\nLink - https://t.co/RKzAY7hySl\\n\\n#Python #100DaysOfCo…', 'truncated': False, 'entities': {'hashtags': [{'text': 'Python', 'indices': [119, 126]}], 'symbols': [], 'user_mentions': [{'screen_name': 'rasangarocks', 'name': 'Domesticated Brain', 'id': 3068484222, 'id_str': '3068484222', 'indices': [3, 16]}], 'urls': [{'url': 'https://t.co/RKzAY7hySl', 'expanded_url': 'https://amzn.to/3AozQzR', 'display_url': 'amzn.to/3AozQzR', 'indices': [94, 117]}]}, 'metadata': {'iso_language_code': 'en', 'result_type': 'recent'}, 'source': '<a href=\"https://mobile.twitter.com\" rel=\"nofollow\">Twitter Web App</a>', 'in_reply_to_status_id': None, 'in_reply_to_status_id_str': None, 'in_reply_to_user_id': None, 'in_reply_to_user_id_str': None, 'in_reply_to_screen_name': None, 'user': {'id': 992943418052460544, 'id_str': '992943418052460544', 'name': 'Ricardo Vázquez', 'screen_name': 'ricardo_ik_ahau', 'location': 'Benito Juárez', 'description': 'Entender la realidad social para tranformarla', 'url': None, 'entities': {'description': {'urls': []}}, 'protected': False, 'followers_count': 2032, 'friends_count': 384, 'listed_count': 40, 'created_at': 'Sun May 06 01:45:33 +0000 2018', 'favourites_count': 946, 'utc_offset': None, 'time_zone': None, 'geo_enabled': False, 'verified': False, 'statuses_count': 490837, 'lang': None, 'contributors_enabled': False, 'is_translator': False, 'is_translation_enabled': False, 'profile_background_color': 'F5F8FA', 'profile_background_image_url': None, 'profile_background_image_url_https': None, 'profile_background_tile': False, 'profile_image_url': 'http://pbs.twimg.com/profile_images/992945204918288390/1X6yiCkn_normal.jpg', 'profile_image_url_https': 'https://pbs.twimg.com/profile_images/992945204918288390/1X6yiCkn_normal.jpg', 'profile_link_color': '1DA1F2', 'profile_sidebar_border_color': 'C0DEED', 'profile_sidebar_fill_color': 'DDEEF6', 'profile_text_color': '333333', 'profile_use_background_image': True, 'has_extended_profile': False, 'default_profile': True, 'default_profile_image': False, 'following': False, 'follow_request_sent': False, 'notifications': False, 'translator_type': 'none', 'withheld_in_countries': []}, 'geo': None, 'coordinates': None, 'place': None, 'contributors': None, 'retweeted_status': {'created_at': 'Sun Jul 03 22:38:59 +0000 2022', 'id': 1543726020683272192, 'id_str': '1543726020683272192', 'text': 'The Practical Python: 100+ Practical Example Projects (2nd Edition)\\n\\nLink - https://t.co/RKzAY7hySl\\n\\n#Python… https://t.co/9vjyhQO4xd', 'truncated': True, 'entities': {'hashtags': [{'text': 'Python', 'indices': [101, 108]}], 'symbols': [], 'user_mentions': [], 'urls': [{'url': 'https://t.co/RKzAY7hySl', 'expanded_url': 'https://amzn.to/3AozQzR', 'display_url': 'amzn.to/3AozQzR', 'indices': [76, 99]}, {'url': 'https://t.co/9vjyhQO4xd', 'expanded_url': 'https://twitter.com/i/web/status/1543726020683272192', 'display_url': 'twitter.com/i/web/status/1…', 'indices': [110, 133]}]}, 'metadata': {'iso_language_code': 'en', 'result_type': 'recent'}, 'source': '<a href=\"https://mobile.twitter.com\" rel=\"nofollow\">Twitter Web App</a>', 'in_reply_to_status_id': None, 'in_reply_to_status_id_str': None, 'in_reply_to_user_id': None, 'in_reply_to_user_id_str': None, 'in_reply_to_screen_name': None, 'user': {'id': 3068484222, 'id_str': '3068484222', 'name': 'Domesticated Brain', 'screen_name': 'rasangarocks', 'location': '', 'description': 'This is the official twitter account for web site called Domesticated Brain. We are sharing various kinds of #computer #tutorials and latest #technology news.', 'url': 'https://t.co/ZxzTXr9C8S', 'entities': {'url': {'urls': [{'url': 'https://t.co/ZxzTXr9C8S', 'expanded_url': 'http://www.domesticatedbrain.com/', 'display_url': 'domesticatedbrain.com', 'indices': [0, 23]}]}, 'description': {'urls': []}}, 'protected': False, 'followers_count': 54950, 'friends_count': 54589, 'listed_count': 637, 'created_at': 'Sun Mar 08 17:13:40 +0000 2015', 'favourites_count': 4033, 'utc_offset': None, 'time_zone': None, 'geo_enabled': True, 'verified': False, 'statuses_count': 30148, 'lang': None, 'contributors_enabled': False, 'is_translator': False, 'is_translation_enabled': False, 'profile_background_color': '000000', 'profile_background_image_url': 'http://abs.twimg.com/images/themes/theme1/bg.png', 'profile_background_image_url_https': 'https://abs.twimg.com/images/themes/theme1/bg.png', 'profile_background_tile': False, 'profile_image_url': 'http://pbs.twimg.com/profile_images/771872242300956672/j1H-OInO_normal.jpg', 'profile_image_url_https': 'https://pbs.twimg.com/profile_images/771872242300956672/j1H-OInO_normal.jpg', 'profile_banner_url': 'https://pbs.twimg.com/profile_banners/3068484222/1467544052', 'profile_link_color': '1B95E0', 'profile_sidebar_border_color': '000000', 'profile_sidebar_fill_color': '000000', 'profile_text_color': '000000', 'profile_use_background_image': False, 'has_extended_profile': True, 'default_profile': False, 'default_profile_image': False, 'following': False, 'follow_request_sent': False, 'notifications': False, 'translator_type': 'none', 'withheld_in_countries': []}, 'geo': None, 'coordinates': None, 'place': None, 'contributors': None, 'is_quote_status': False, 'retweet_count': 30, 'favorite_count': 15, 'favorited': False, 'retweeted': False, 'possibly_sensitive': False, 'lang': 'en'}, 'is_quote_status': False, 'retweet_count': 30, 'favorite_count': 0, 'favorited': False, 'retweeted': False, 'possibly_sensitive': False, 'lang': 'en'}, {'created_at': 'Mon Jul 04 05:25:02 +0000 2022', 'id': 1543828208423997440, 'id_str': '1543828208423997440', 'text': 'Le MOOC de la CNIL propose un nouveau module dédié aux collectivités territoriales\\nhttps://t.co/qxrq1h6GFF… https://t.co/3vwV1MYJHP', 'truncated': True, 'entities': {'hashtags': [], 'symbols': [], 'user_mentions': [], 'urls': [{'url': 'https://t.co/qxrq1h6GFF', 'expanded_url': 'http://ow.ly/Pizw50JLnmo', 'display_url': 'ow.ly/Pizw50JLnmo', 'indices': [83, 106]}, {'url': 'https://t.co/3vwV1MYJHP', 'expanded_url': 'https://twitter.com/i/web/status/1543828208423997440', 'display_url': 'twitter.com/i/web/status/1…', 'indices': [108, 131]}]}, 'metadata': {'iso_language_code': 'fr', 'result_type': 'recent'}, 'source': '<a href=\"https://www.hootsuite.com\" rel=\"nofollow\">Hootsuite Inc.</a>', 'in_reply_to_status_id': None, 'in_reply_to_status_id_str': None, 'in_reply_to_user_id': None, 'in_reply_to_user_id_str': None, 'in_reply_to_screen_name': None, 'user': {'id': 1273173749492219905, 'id_str': '1273173749492219905', 'name': 'Cybersécurité, IA, Metavers, Cryptomonnaies', 'screen_name': 'VeilleCyber3', 'location': 'Paris', 'description': 'Top 10 Influencers #insurtech / #cybersecurity #Metaverse #AI #crypto #intelligenceartificielle #cybersecurite #bitcoin @Probe_IT_', 'url': 'https://t.co/yCUYTmGzZa', 'entities': {'url': {'urls': [{'url': 'https://t.co/yCUYTmGzZa', 'expanded_url': 'https://veille-cyber.com/', 'display_url': 'veille-cyber.com', 'indices': [0, 23]}]}, 'description': {'urls': []}}, 'protected': False, 'followers_count': 2644, 'friends_count': 149, 'listed_count': 70, 'created_at': 'Wed Jun 17 08:41:18 +0000 2020', 'favourites_count': 9198, 'utc_offset': None, 'time_zone': None, 'geo_enabled': False, 'verified': False, 'statuses_count': 14282, 'lang': None, 'contributors_enabled': False, 'is_translator': False, 'is_translation_enabled': False, 'profile_background_color': 'F5F8FA', 'profile_background_image_url': None, 'profile_background_image_url_https': None, 'profile_background_tile': False, 'profile_image_url': 'http://pbs.twimg.com/profile_images/1524765050124263426/qyqnDvVj_normal.jpg', 'profile_image_url_https': 'https://pbs.twimg.com/profile_images/1524765050124263426/qyqnDvVj_normal.jpg', 'profile_banner_url': 'https://pbs.twimg.com/profile_banners/1273173749492219905/1655198243', 'profile_link_color': '1DA1F2', 'profile_sidebar_border_color': 'C0DEED', 'profile_sidebar_fill_color': 'DDEEF6', 'profile_text_color': '333333', 'profile_use_background_image': True, 'has_extended_profile': True, 'default_profile': True, 'default_profile_image': False, 'following': False, 'follow_request_sent': False, 'notifications': False, 'translator_type': 'none', 'withheld_in_countries': []}, 'geo': None, 'coordinates': None, 'place': None, 'contributors': None, 'is_quote_status': False, 'retweet_count': 1, 'favorite_count': 0, 'favorited': False, 'retweeted': False, 'possibly_sensitive': False, 'lang': 'fr'}, {'created_at': 'Mon Jul 04 05:24:58 +0000 2022', 'id': 1543828192942858242, 'id_str': '1543828192942858242', 'text': 'RT @PythonMaps: Roads of South America! Shows all roads from highways down to dirt tracks. \\nThis map was generated using #Matplotlib #Numpy…', 'truncated': False, 'entities': {'hashtags': [{'text': 'Matplotlib', 'indices': [121, 132]}, {'text': 'Numpy', 'indices': [133, 139]}], 'symbols': [], 'user_mentions': [{'screen_name': 'PythonMaps', 'name': 'Python Maps', 'id': 1349110409215795204, 'id_str': '1349110409215795204', 'indices': [3, 14]}], 'urls': []}, 'metadata': {'iso_language_code': 'en', 'result_type': 'recent'}, 'source': '<a href=\"http://twitter.com/download/iphone\" rel=\"nofollow\">Twitter for iPhone</a>', 'in_reply_to_status_id': None, 'in_reply_to_status_id_str': None, 'in_reply_to_user_id': None, 'in_reply_to_user_id_str': None, 'in_reply_to_screen_name': None, 'user': {'id': 149532991, 'id_str': '149532991', 'name': 'Carlos David Montoya', 'screen_name': 'cdmv1', 'location': 'Medellín', 'description': 'Caminante contemplativo 🚶🏻\\u200d♂️', 'url': 'https://t.co/65Qn6zRGXq', 'entities': {'url': {'urls': [{'url': 'https://t.co/65Qn6zRGXq', 'expanded_url': 'http://www.opusestudio.com', 'display_url': 'opusestudio.com', 'indices': [0, 23]}]}, 'description': {'urls': []}}, 'protected': False, 'followers_count': 535, 'friends_count': 731, 'listed_count': 25, 'created_at': 'Sat May 29 14:48:22 +0000 2010', 'favourites_count': 2513, 'utc_offset': None, 'time_zone': None, 'geo_enabled': False, 'verified': False, 'statuses_count': 1013, 'lang': None, 'contributors_enabled': False, 'is_translator': False, 'is_translation_enabled': False, 'profile_background_color': 'C0DEED', 'profile_background_image_url': 'http://abs.twimg.com/images/themes/theme1/bg.png', 'profile_background_image_url_https': 'https://abs.twimg.com/images/themes/theme1/bg.png', 'profile_background_tile': False, 'profile_image_url': 'http://pbs.twimg.com/profile_images/1523169903938789377/icDgcUn5_normal.jpg', 'profile_image_url_https': 'https://pbs.twimg.com/profile_images/1523169903938789377/icDgcUn5_normal.jpg', 'profile_banner_url': 'https://pbs.twimg.com/profile_banners/149532991/1392606815', 'profile_link_color': '1DA1F2', 'profile_sidebar_border_color': 'C0DEED', 'profile_sidebar_fill_color': 'DDEEF6', 'profile_text_color': '333333', 'profile_use_background_image': True, 'has_extended_profile': False, 'default_profile': True, 'default_profile_image': False, 'following': False, 'follow_request_sent': False, 'notifications': False, 'translator_type': 'none', 'withheld_in_countries': []}, 'geo': None, 'coordinates': None, 'place': None, 'contributors': None, 'retweeted_status': {'created_at': 'Sun Jul 03 17:29:35 +0000 2022', 'id': 1543648160899284992, 'id_str': '1543648160899284992', 'text': 'Roads of South America! Shows all roads from highways down to dirt tracks. \\nThis map was generated using… https://t.co/8B9I4nIS9O', 'truncated': True, 'entities': {'hashtags': [], 'symbols': [], 'user_mentions': [], 'urls': [{'url': 'https://t.co/8B9I4nIS9O', 'expanded_url': 'https://twitter.com/i/web/status/1543648160899284992', 'display_url': 'twitter.com/i/web/status/1…', 'indices': [106, 129]}]}, 'metadata': {'iso_language_code': 'en', 'result_type': 'recent'}, 'source': '<a href=\"https://mobile.twitter.com\" rel=\"nofollow\">Twitter Web App</a>', 'in_reply_to_status_id': None, 'in_reply_to_status_id_str': None, 'in_reply_to_user_id': None, 'in_reply_to_user_id_str': None, 'in_reply_to_screen_name': None, 'user': {'id': 1349110409215795204, 'id_str': '1349110409215795204', 'name': 'Python Maps', 'screen_name': 'PythonMaps', 'location': 'Planet Earth', 'description': 'Mapping the world with Python. \\nDM for requests. \\nhttps://t.co/GeVZhSRjbd', 'url': 'https://t.co/1ukesP8x9V', 'entities': {'url': {'urls': [{'url': 'https://t.co/1ukesP8x9V', 'expanded_url': 'https://python-maps.github.io/', 'display_url': 'python-maps.github.io', 'indices': [0, 23]}]}, 'description': {'urls': [{'url': 'https://t.co/GeVZhSRjbd', 'expanded_url': 'http://medium.com/@pythonmaps', 'display_url': 'medium.com/@pythonmaps', 'indices': [50, 73]}]}}, 'protected': False, 'followers_count': 14734, 'friends_count': 413, 'listed_count': 192, 'created_at': 'Tue Jan 12 21:46:11 +0000 2021', 'favourites_count': 3078, 'utc_offset': None, 'time_zone': None, 'geo_enabled': False, 'verified': False, 'statuses_count': 716, 'lang': None, 'contributors_enabled': False, 'is_translator': False, 'is_translation_enabled': False, 'profile_background_color': 'F5F8FA', 'profile_background_image_url': None, 'profile_background_image_url_https': None, 'profile_background_tile': False, 'profile_image_url': 'http://pbs.twimg.com/profile_images/1540447849950896128/M-SUfHv7_normal.jpg', 'profile_image_url_https': 'https://pbs.twimg.com/profile_images/1540447849950896128/M-SUfHv7_normal.jpg', 'profile_banner_url': 'https://pbs.twimg.com/profile_banners/1349110409215795204/1645267615', 'profile_link_color': '1DA1F2', 'profile_sidebar_border_color': 'C0DEED', 'profile_sidebar_fill_color': 'DDEEF6', 'profile_text_color': '333333', 'profile_use_background_image': True, 'has_extended_profile': True, 'default_profile': True, 'default_profile_image': False, 'following': False, 'follow_request_sent': False, 'notifications': False, 'translator_type': 'none', 'withheld_in_countries': []}, 'geo': None, 'coordinates': None, 'place': None, 'contributors': None, 'is_quote_status': False, 'retweet_count': 111, 'favorite_count': 567, 'favorited': False, 'retweeted': False, 'possibly_sensitive': False, 'lang': 'en'}, 'is_quote_status': False, 'retweet_count': 111, 'favorite_count': 0, 'favorited': False, 'retweeted': False, 'lang': 'en'}, {'created_at': 'Mon Jul 04 05:24:44 +0000 2022', 'id': 1543828134784512000, 'id_str': '1543828134784512000', 'text': 'RT @TechAsiaLab: #Microsoft Defender adds #network protection for #Android, #ios devices \\n\\nhttps://t.co/zNha8oEZXw\\n\\n#cyberwar #cybercrime #…', 'truncated': False, 'entities': {'hashtags': [{'text': 'Microsoft', 'indices': [17, 27]}, {'text': 'network', 'indices': [42, 50]}, {'text': 'Android', 'indices': [66, 74]}, {'text': 'ios', 'indices': [76, 80]}, {'text': 'cyberwar', 'indices': [116, 125]}, {'text': 'cybercrime', 'indices': [126, 137]}], 'symbols': [], 'user_mentions': [{'screen_name': 'TechAsiaLab', 'name': 'TechAsiaLab', 'id': 1145540456291291136, 'id_str': '1145540456291291136', 'indices': [3, 15]}], 'urls': [{'url': 'https://t.co/zNha8oEZXw', 'expanded_url': 'https://www.bleepingcomputer.com/news/microsoft/microsoft-defender-adds-network-protection-for-android-ios-devices/', 'display_url': 'bleepingcomputer.com/news/microsoft…', 'indices': [91, 114]}]}, 'metadata': {'iso_language_code': 'en', 'result_type': 'recent'}, 'source': '<a href=\"https://ho.com\" rel=\"nofollow\">auto is the only way it can be </a>', 'in_reply_to_status_id': None, 'in_reply_to_status_id_str': None, 'in_reply_to_user_id': None, 'in_reply_to_user_id_str': None, 'in_reply_to_screen_name': None, 'user': {'id': 710123736175783938, 'id_str': '710123736175783938', 'name': 'Security News', 'screen_name': 'sectest9', 'location': 'Hyderabad, India', 'description': 'News Hub! Get the latest Security News & Updates!', 'url': None, 'entities': {'description': {'urls': []}}, 'protected': False, 'followers_count': 41271, 'friends_count': 1, 'listed_count': 6714, 'created_at': 'Wed Mar 16 15:21:07 +0000 2016', 'favourites_count': 7, 'utc_offset': None, 'time_zone': None, 'geo_enabled': False, 'verified': False, 'statuses_count': 2798790, 'lang': None, 'contributors_enabled': False, 'is_translator': False, 'is_translation_enabled': False, 'profile_background_color': 'F5F8FA', 'profile_background_image_url': None, 'profile_background_image_url_https': None, 'profile_background_tile': False, 'profile_image_url': 'http://pbs.twimg.com/profile_images/710735123876982784/GjV7JWMk_normal.jpg', 'profile_image_url_https': 'https://pbs.twimg.com/profile_images/710735123876982784/GjV7JWMk_normal.jpg', 'profile_banner_url': 'https://pbs.twimg.com/profile_banners/710123736175783938/1458287472', 'profile_link_color': '1DA1F2', 'profile_sidebar_border_color': 'C0DEED', 'profile_sidebar_fill_color': 'DDEEF6', 'profile_text_color': '333333', 'profile_use_background_image': True, 'has_extended_profile': False, 'default_profile': True, 'default_profile_image': False, 'following': False, 'follow_request_sent': False, 'notifications': False, 'translator_type': 'none', 'withheld_in_countries': []}, 'geo': None, 'coordinates': None, 'place': None, 'contributors': None, 'retweeted_status': {'created_at': 'Mon Jul 04 03:15:27 +0000 2022', 'id': 1543795598897315841, 'id_str': '1543795598897315841', 'text': '#Microsoft Defender adds #network protection for #Android, #ios devices \\n\\nhttps://t.co/zNha8oEZXw\\n\\n#cyberwar… https://t.co/vNYErpxmXU', 'truncated': True, 'entities': {'hashtags': [{'text': 'Microsoft', 'indices': [0, 10]}, {'text': 'network', 'indices': [25, 33]}, {'text': 'Android', 'indices': [49, 57]}, {'text': 'ios', 'indices': [59, 63]}, {'text': 'cyberwar', 'indices': [99, 108]}], 'symbols': [], 'user_mentions': [], 'urls': [{'url': 'https://t.co/zNha8oEZXw', 'expanded_url': 'https://www.bleepingcomputer.com/news/microsoft/microsoft-defender-adds-network-protection-for-android-ios-devices/', 'display_url': 'bleepingcomputer.com/news/microsoft…', 'indices': [74, 97]}, {'url': 'https://t.co/vNYErpxmXU', 'expanded_url': 'https://twitter.com/i/web/status/1543795598897315841', 'display_url': 'twitter.com/i/web/status/1…', 'indices': [110, 133]}]}, 'metadata': {'iso_language_code': 'en', 'result_type': 'recent'}, 'source': '<a href=\"http://twitter.com/download/android\" rel=\"nofollow\">Twitter for Android</a>', 'in_reply_to_status_id': None, 'in_reply_to_status_id_str': None, 'in_reply_to_user_id': None, 'in_reply_to_user_id_str': None, 'in_reply_to_screen_name': None, 'user': {'id': 1145540456291291136, 'id_str': '1145540456291291136', 'name': 'TechAsiaLab', 'screen_name': 'TechAsiaLab', 'location': 'Bengaluru, India', 'description': 'IT Services Company providing: Managed Services, Professional Services, IT Services & Solutions, IT Outsourcing, IT Consulting, IT Staff Augmentation', 'url': 'https://t.co/S7Q4gRnyWL', 'entities': {'url': {'urls': [{'url': 'https://t.co/S7Q4gRnyWL', 'expanded_url': 'http://www.techasialab.com', 'display_url': 'techasialab.com', 'indices': [0, 23]}]}, 'description': {'urls': []}}, 'protected': False, 'followers_count': 54, 'friends_count': 3, 'listed_count': 1, 'created_at': 'Mon Jul 01 03:51:42 +0000 2019', 'favourites_count': 29, 'utc_offset': None, 'time_zone': None, 'geo_enabled': False, 'verified': False, 'statuses_count': 78, 'lang': None, 'contributors_enabled': False, 'is_translator': False, 'is_translation_enabled': False, 'profile_background_color': 'F5F8FA', 'profile_background_image_url': None, 'profile_background_image_url_https': None, 'profile_background_tile': False, 'profile_image_url': 'http://pbs.twimg.com/profile_images/1150693847808131072/1cU_ZfXP_normal.png', 'profile_image_url_https': 'https://pbs.twimg.com/profile_images/1150693847808131072/1cU_ZfXP_normal.png', 'profile_banner_url': 'https://pbs.twimg.com/profile_banners/1145540456291291136/1646325488', 'profile_link_color': '1DA1F2', 'profile_sidebar_border_color': 'C0DEED', 'profile_sidebar_fill_color': 'DDEEF6', 'profile_text_color': '333333', 'profile_use_background_image': True, 'has_extended_profile': True, 'default_profile': True, 'default_profile_image': False, 'following': False, 'follow_request_sent': False, 'notifications': False, 'translator_type': 'none', 'withheld_in_countries': []}, 'geo': None, 'coordinates': None, 'place': None, 'contributors': None, 'is_quote_status': False, 'retweet_count': 6, 'favorite_count': 1, 'favorited': False, 'retweeted': False, 'possibly_sensitive': False, 'lang': 'en'}, 'is_quote_status': False, 'retweet_count': 6, 'favorite_count': 0, 'favorited': False, 'retweeted': False, 'possibly_sensitive': False, 'lang': 'en'}, {'created_at': 'Mon Jul 04 05:24:42 +0000 2022', 'id': 1543828126303944706, 'id_str': '1543828126303944706', 'text': 'RT @TechAsiaLab: #Microsoft Defender adds #network protection for #Android, #ios devices \\n\\nhttps://t.co/zNha8oEZXw\\n\\n#cyberwar #cybercrime #…', 'truncated': False, 'entities': {'hashtags': [{'text': 'Microsoft', 'indices': [17, 27]}, {'text': 'network', 'indices': [42, 50]}, {'text': 'Android', 'indices': [66, 74]}, {'text': 'ios', 'indices': [76, 80]}, {'text': 'cyberwar', 'indices': [116, 125]}, {'text': 'cybercrime', 'indices': [126, 137]}], 'symbols': [], 'user_mentions': [{'screen_name': 'TechAsiaLab', 'name': 'TechAsiaLab', 'id': 1145540456291291136, 'id_str': '1145540456291291136', 'indices': [3, 15]}], 'urls': [{'url': 'https://t.co/zNha8oEZXw', 'expanded_url': 'https://www.bleepingcomputer.com/news/microsoft/microsoft-defender-adds-network-protection-for-android-ios-devices/', 'display_url': 'bleepingcomputer.com/news/microsoft…', 'indices': [91, 114]}]}, 'metadata': {'iso_language_code': 'en', 'result_type': 'recent'}, 'source': '<a href=\"https://homeinc.com\" rel=\"nofollow\">forRetweeting</a>', 'in_reply_to_status_id': None, 'in_reply_to_status_id_str': None, 'in_reply_to_user_id': None, 'in_reply_to_user_id_str': None, 'in_reply_to_screen_name': None, 'user': {'id': 1142424032794406912, 'id_str': '1142424032794406912', 'name': 'Cyber Security News', 'screen_name': 'CyberSecurityN8', 'location': '', 'description': 'The place for InfoSec, CyberSecurity, DevSecOps, DataSecurity and many more!!! Stay tuned.', 'url': None, 'entities': {'description': {'urls': []}}, 'protected': False, 'followers_count': 28591, 'friends_count': 2, 'listed_count': 375, 'created_at': 'Sat Jun 22 13:28:09 +0000 2019', 'favourites_count': 0, 'utc_offset': None, 'time_zone': None, 'geo_enabled': False, 'verified': False, 'statuses_count': 1297751, 'lang': None, 'contributors_enabled': False, 'is_translator': False, 'is_translation_enabled': False, 'profile_background_color': 'F5F8FA', 'profile_background_image_url': None, 'profile_background_image_url_https': None, 'profile_background_tile': False, 'profile_image_url': 'http://pbs.twimg.com/profile_images/1197135188473475074/8svI-1EO_normal.jpg', 'profile_image_url_https': 'https://pbs.twimg.com/profile_images/1197135188473475074/8svI-1EO_normal.jpg', 'profile_banner_url': 'https://pbs.twimg.com/profile_banners/1142424032794406912/1574254287', 'profile_link_color': '1DA1F2', 'profile_sidebar_border_color': 'C0DEED', 'profile_sidebar_fill_color': 'DDEEF6', 'profile_text_color': '333333', 'profile_use_background_image': True, 'has_extended_profile': False, 'default_profile': True, 'default_profile_image': False, 'following': False, 'follow_request_sent': False, 'notifications': False, 'translator_type': 'none', 'withheld_in_countries': []}, 'geo': None, 'coordinates': None, 'place': None, 'contributors': None, 'retweeted_status': {'created_at': 'Mon Jul 04 03:15:27 +0000 2022', 'id': 1543795598897315841, 'id_str': '1543795598897315841', 'text': '#Microsoft Defender adds #network protection for #Android, #ios devices \\n\\nhttps://t.co/zNha8oEZXw\\n\\n#cyberwar… https://t.co/vNYErpxmXU', 'truncated': True, 'entities': {'hashtags': [{'text': 'Microsoft', 'indices': [0, 10]}, {'text': 'network', 'indices': [25, 33]}, {'text': 'Android', 'indices': [49, 57]}, {'text': 'ios', 'indices': [59, 63]}, {'text': 'cyberwar', 'indices': [99, 108]}], 'symbols': [], 'user_mentions': [], 'urls': [{'url': 'https://t.co/zNha8oEZXw', 'expanded_url': 'https://www.bleepingcomputer.com/news/microsoft/microsoft-defender-adds-network-protection-for-android-ios-devices/', 'display_url': 'bleepingcomputer.com/news/microsoft…', 'indices': [74, 97]}, {'url': 'https://t.co/vNYErpxmXU', 'expanded_url': 'https://twitter.com/i/web/status/1543795598897315841', 'display_url': 'twitter.com/i/web/status/1…', 'indices': [110, 133]}]}, 'metadata': {'iso_language_code': 'en', 'result_type': 'recent'}, 'source': '<a href=\"http://twitter.com/download/android\" rel=\"nofollow\">Twitter for Android</a>', 'in_reply_to_status_id': None, 'in_reply_to_status_id_str': None, 'in_reply_to_user_id': None, 'in_reply_to_user_id_str': None, 'in_reply_to_screen_name': None, 'user': {'id': 1145540456291291136, 'id_str': '1145540456291291136', 'name': 'TechAsiaLab', 'screen_name': 'TechAsiaLab', 'location': 'Bengaluru, India', 'description': 'IT Services Company providing: Managed Services, Professional Services, IT Services & Solutions, IT Outsourcing, IT Consulting, IT Staff Augmentation', 'url': 'https://t.co/S7Q4gRnyWL', 'entities': {'url': {'urls': [{'url': 'https://t.co/S7Q4gRnyWL', 'expanded_url': 'http://www.techasialab.com', 'display_url': 'techasialab.com', 'indices': [0, 23]}]}, 'description': {'urls': []}}, 'protected': False, 'followers_count': 54, 'friends_count': 3, 'listed_count': 1, 'created_at': 'Mon Jul 01 03:51:42 +0000 2019', 'favourites_count': 29, 'utc_offset': None, 'time_zone': None, 'geo_enabled': False, 'verified': False, 'statuses_count': 78, 'lang': None, 'contributors_enabled': False, 'is_translator': False, 'is_translation_enabled': False, 'profile_background_color': 'F5F8FA', 'profile_background_image_url': None, 'profile_background_image_url_https': None, 'profile_background_tile': False, 'profile_image_url': 'http://pbs.twimg.com/profile_images/1150693847808131072/1cU_ZfXP_normal.png', 'profile_image_url_https': 'https://pbs.twimg.com/profile_images/1150693847808131072/1cU_ZfXP_normal.png', 'profile_banner_url': 'https://pbs.twimg.com/profile_banners/1145540456291291136/1646325488', 'profile_link_color': '1DA1F2', 'profile_sidebar_border_color': 'C0DEED', 'profile_sidebar_fill_color': 'DDEEF6', 'profile_text_color': '333333', 'profile_use_background_image': True, 'has_extended_profile': True, 'default_profile': True, 'default_profile_image': False, 'following': False, 'follow_request_sent': False, 'notifications': False, 'translator_type': 'none', 'withheld_in_countries': []}, 'geo': None, 'coordinates': None, 'place': None, 'contributors': None, 'is_quote_status': False, 'retweet_count': 6, 'favorite_count': 1, 'favorited': False, 'retweeted': False, 'possibly_sensitive': False, 'lang': 'en'}, 'is_quote_status': False, 'retweet_count': 6, 'favorite_count': 0, 'favorited': False, 'retweeted': False, 'possibly_sensitive': False, 'lang': 'en'}], 'search_metadata': {'completed_in': 0.091, 'max_id': 1543828522774700032, 'max_id_str': '1543828522774700032', 'next_results': '?max_id=1543828126303944705&q=%23python&include_entities=1', 'query': '%23python', 'refresh_url': '?since_id=1543828522774700032&q=%23python&include_entities=1', 'count': 15, 'since_id': 0, 'since_id_str': '0'}}\n"
     ]
    }
   ],
   "source": [
    "# You will then need to: \n",
    "\n",
    "#Check your connection to the API. Confirm the connection with the #python search.\n",
    "\n",
    "python_tweets_test=twitter_api.search.tweets(q=\"#python\")\n",
    "print(python_tweets_test)"
   ]
  },
  {
   "cell_type": "code",
   "execution_count": 7,
   "id": "8fb9c936",
   "metadata": {},
   "outputs": [
    {
     "name": "stdout",
     "output_type": "stream",
     "text": [
      "467\n"
     ]
    },
    {
     "data": {
      "text/plain": [
       "{'name': 'Worldwide',\n",
       " 'placeType': {'code': 19, 'name': 'Supername'},\n",
       " 'url': 'http://where.yahooapis.com/v1/place/1',\n",
       " 'parentid': 0,\n",
       " 'country': '',\n",
       " 'woeid': 1,\n",
       " 'countryCode': None}"
      ]
     },
     "execution_count": 7,
     "metadata": {},
     "output_type": "execute_result"
    }
   ],
   "source": [
    "#Search trends worldwide for the IDs of the required cities (US as New York and UK as London)\n",
    "#    Identify the trends worldwide.\n",
    "\n",
    "trends_worldwide = twitter_api.trends.available()\n",
    "print(len(trends_worldwide))\n",
    "trends_worldwide[0]"
   ]
  },
  {
   "cell_type": "code",
   "execution_count": 20,
   "id": "42a541bc",
   "metadata": {},
   "outputs": [
    {
     "name": "stdout",
     "output_type": "stream",
     "text": [
      "1\n"
     ]
    },
    {
     "data": {
      "text/plain": [
       "44418"
      ]
     },
     "execution_count": 20,
     "metadata": {},
     "output_type": "execute_result"
    }
   ],
   "source": [
    "#    Identify New York and London with the woeid method.\n",
    "\n",
    "list_of_names_London = [_ for _ in trends_worldwide if _[\"name\"] == \"London\"]\n",
    "print(len(list_of_names_London))\n",
    "list_of_names_London[0][\"woeid\"]\n",
    "\n",
    "#if uyou use list_of_names_London = [_[\"name\"] for _ in trends_worldwide if _[\"name\"] == \"London\"]\n",
    "# it will only return the name column!!"
   ]
  },
  {
   "cell_type": "code",
   "execution_count": 32,
   "id": "adc8be36",
   "metadata": {},
   "outputs": [],
   "source": [
    "#    Find a list of the trends specific to each city and save it as a Pandas DataFrame.\n",
    "#    Limit the output to more than 50,000 tweets.\n",
    "#    Save the output as a CSV file.\n",
    "\n",
    "import pandas as pd\n",
    "London_trends = twitter_api.trends.place(_id = list_of_names_London[0]['woeid'])\n",
    "London_trends_df = pd.DataFrame(London_trends[0][\"trends\"])\n",
    "London_trends_df_new = London_trends_df[London_trends_df[\"tweet_volume\"]>50000]\n",
    "London_trends_df_new\n",
    "London_trends_df_new.to_csv(\"London_trends_df_over_50k_tweets.csv\")"
   ]
  },
  {
   "cell_type": "code",
   "execution_count": 33,
   "id": "c5bb0cf0",
   "metadata": {},
   "outputs": [
    {
     "name": "stdout",
     "output_type": "stream",
     "text": [
      "1\n"
     ]
    },
    {
     "data": {
      "text/html": [
       "<div>\n",
       "<style scoped>\n",
       "    .dataframe tbody tr th:only-of-type {\n",
       "        vertical-align: middle;\n",
       "    }\n",
       "\n",
       "    .dataframe tbody tr th {\n",
       "        vertical-align: top;\n",
       "    }\n",
       "\n",
       "    .dataframe thead th {\n",
       "        text-align: right;\n",
       "    }\n",
       "</style>\n",
       "<table border=\"1\" class=\"dataframe\">\n",
       "  <thead>\n",
       "    <tr style=\"text-align: right;\">\n",
       "      <th></th>\n",
       "      <th>name</th>\n",
       "      <th>url</th>\n",
       "      <th>promoted_content</th>\n",
       "      <th>query</th>\n",
       "      <th>tweet_volume</th>\n",
       "    </tr>\n",
       "  </thead>\n",
       "  <tbody>\n",
       "    <tr>\n",
       "      <th>7</th>\n",
       "      <td>#ESSENCEFest</td>\n",
       "      <td>http://twitter.com/search?q=%23ESSENCEFest</td>\n",
       "      <td>None</td>\n",
       "      <td>%23ESSENCEFest</td>\n",
       "      <td>53560.0</td>\n",
       "    </tr>\n",
       "    <tr>\n",
       "      <th>11</th>\n",
       "      <td>The Office</td>\n",
       "      <td>http://twitter.com/search?q=%22The+Office%22</td>\n",
       "      <td>None</td>\n",
       "      <td>%22The+Office%22</td>\n",
       "      <td>144101.0</td>\n",
       "    </tr>\n",
       "    <tr>\n",
       "      <th>14</th>\n",
       "      <td>Independence Day</td>\n",
       "      <td>http://twitter.com/search?q=%22Independence+Da...</td>\n",
       "      <td>None</td>\n",
       "      <td>%22Independence+Day%22</td>\n",
       "      <td>100660.0</td>\n",
       "    </tr>\n",
       "    <tr>\n",
       "      <th>17</th>\n",
       "      <td>Chan</td>\n",
       "      <td>http://twitter.com/search?q=Chan</td>\n",
       "      <td>None</td>\n",
       "      <td>Chan</td>\n",
       "      <td>299530.0</td>\n",
       "    </tr>\n",
       "    <tr>\n",
       "      <th>24</th>\n",
       "      <td>Fireworks</td>\n",
       "      <td>http://twitter.com/search?q=Fireworks</td>\n",
       "      <td>None</td>\n",
       "      <td>Fireworks</td>\n",
       "      <td>187622.0</td>\n",
       "    </tr>\n",
       "    <tr>\n",
       "      <th>37</th>\n",
       "      <td>Pennsylvania</td>\n",
       "      <td>http://twitter.com/search?q=Pennsylvania</td>\n",
       "      <td>None</td>\n",
       "      <td>Pennsylvania</td>\n",
       "      <td>52941.0</td>\n",
       "    </tr>\n",
       "    <tr>\n",
       "      <th>38</th>\n",
       "      <td>Denmark</td>\n",
       "      <td>http://twitter.com/search?q=Denmark</td>\n",
       "      <td>None</td>\n",
       "      <td>Denmark</td>\n",
       "      <td>67217.0</td>\n",
       "    </tr>\n",
       "    <tr>\n",
       "      <th>47</th>\n",
       "      <td>the americans</td>\n",
       "      <td>http://twitter.com/search?q=%22the+americans%22</td>\n",
       "      <td>None</td>\n",
       "      <td>%22the+americans%22</td>\n",
       "      <td>112389.0</td>\n",
       "    </tr>\n",
       "  </tbody>\n",
       "</table>\n",
       "</div>"
      ],
      "text/plain": [
       "                name                                                url  \\\n",
       "7       #ESSENCEFest         http://twitter.com/search?q=%23ESSENCEFest   \n",
       "11        The Office       http://twitter.com/search?q=%22The+Office%22   \n",
       "14  Independence Day  http://twitter.com/search?q=%22Independence+Da...   \n",
       "17              Chan                   http://twitter.com/search?q=Chan   \n",
       "24         Fireworks              http://twitter.com/search?q=Fireworks   \n",
       "37      Pennsylvania           http://twitter.com/search?q=Pennsylvania   \n",
       "38           Denmark                http://twitter.com/search?q=Denmark   \n",
       "47     the americans    http://twitter.com/search?q=%22the+americans%22   \n",
       "\n",
       "   promoted_content                   query  tweet_volume  \n",
       "7              None          %23ESSENCEFest       53560.0  \n",
       "11             None        %22The+Office%22      144101.0  \n",
       "14             None  %22Independence+Day%22      100660.0  \n",
       "17             None                    Chan      299530.0  \n",
       "24             None               Fireworks      187622.0  \n",
       "37             None            Pennsylvania       52941.0  \n",
       "38             None                 Denmark       67217.0  \n",
       "47             None     %22the+americans%22      112389.0  "
      ]
     },
     "execution_count": 33,
     "metadata": {},
     "output_type": "execute_result"
    }
   ],
   "source": [
    "list_of_names_NY = [_ for _ in trends_worldwide if _[\"name\"] == \"New York\"]\n",
    "print(len(list_of_names_NY))\n",
    "#list_of_names_NY[0][\"woeid\"]\n",
    "\n",
    "import pandas as pd\n",
    "NY_trends = twitter_api.trends.place(_id = list_of_names_NY[0]['woeid'])\n",
    "NY_trends_df = pd.DataFrame(NY_trends[0][\"trends\"])\n",
    "NY_trends_df_new = NY_trends_df[NY_trends_df[\"tweet_volume\"]>50000]\n",
    "NY_trends_df_new\n",
    "NY_trends_df_new.to_csv(\"NY_trends_df_over_50k_tweets.csv\")"
   ]
  },
  {
   "cell_type": "code",
   "execution_count": 40,
   "id": "2ec3e57c",
   "metadata": {},
   "outputs": [
    {
     "name": "stdout",
     "output_type": "stream",
     "text": [
      "[\n",
      "    \"#BritishGP\",\n",
      "    \"#SilverstoneGP\",\n",
      "    \"Zhou\",\n",
      "    \"Deji\",\n",
      "    \"#BritishGrandPrix\",\n",
      "    \"Sainz\",\n",
      "    \"#Formula1\",\n",
      "    \"Hamilton\",\n",
      "    \"Lewis\",\n",
      "    \"#MondayMotivation\",\n",
      "    \"Happy 4th of July\",\n",
      "    \"Chyna\",\n",
      "    \"Ronaldo\",\n",
      "    \"Josh\",\n",
      "    \"Dami\",\n",
      "    \"Perez\",\n",
      "    \"Daily Quordle 161\",\n",
      "    \"leclerc\",\n",
      "    \"Verstappen\",\n",
      "    \"Halo\",\n",
      "    \"Ferrari\",\n",
      "    \"Kyrgios\",\n",
      "    \"Wordle 380 X\",\n",
      "    \"Copenhagen\",\n",
      "    \"sam ryder\",\n",
      "    \"Coco\",\n",
      "    \"Indiyah\",\n",
      "    \"Independence Day\",\n",
      "    \"Samuel\",\n",
      "    \"George Russell\",\n",
      "    \"Coffey\",\n",
      "    \"Neil Oliver\",\n",
      "    \"Peter Brook\",\n",
      "    \"martin brundle\",\n",
      "    \"Mollie\",\n",
      "    \"Gasly\",\n",
      "    \"Denmark\",\n",
      "    \"Tsitsipas\",\n",
      "    \"Mick\",\n",
      "    \"ronan keating\",\n",
      "    \"Tom Cruise\",\n",
      "    \"Nissany\",\n",
      "    \"Kohli\",\n",
      "    \"WHAT A RACE\",\n",
      "    \"Albon\",\n",
      "    \"Djokovic\",\n",
      "    \"Theory\",\n",
      "    \"Izzy\",\n",
      "    \"Cliff Richard\",\n",
      "    \"Andrew\"\n",
      "]\n",
      "[\n",
      "    \"#July4th\",\n",
      "    \"Breaking Bad\",\n",
      "    \"New Edition\",\n",
      "    \"The Wire\",\n",
      "    \"Happy 4th of July\",\n",
      "    \"The Sopranos\",\n",
      "    \"#USFL\",\n",
      "    \"#ESSENCEFest\",\n",
      "    \"the good place\",\n",
      "    \"Mad Men\",\n",
      "    \"#90DayFiance\",\n",
      "    \"The Office\",\n",
      "    \"Daily Quordle 161\",\n",
      "    \"Arrested Development\",\n",
      "    \"Independence Day\",\n",
      "    \"Wordle 380 X\",\n",
      "    \"#pvalley\",\n",
      "    \"Chan\",\n",
      "    \"Ted Lasso\",\n",
      "    \"The West Wing\",\n",
      "    \"Bojack Horseman\",\n",
      "    \"Better Call Saul\",\n",
      "    \"Game of Thrones\",\n",
      "    \"All in the Family\",\n",
      "    \"Fireworks\",\n",
      "    \"Schitt's Creek\",\n",
      "    \"Johnny Gill\",\n",
      "    \"ron isley\",\n",
      "    \"Bobby Brown\",\n",
      "    \"The Simpsons\",\n",
      "    \"Birmingham Stallions\",\n",
      "    \"I Love Lucy\",\n",
      "    \"Six Feet Under\",\n",
      "    \"Happy Fourth of July\",\n",
      "    \"The Twilight Zone\",\n",
      "    \"PTSD\",\n",
      "    \"The Last Airbender\",\n",
      "    \"Pennsylvania\",\n",
      "    \"Denmark\",\n",
      "    \"Isley Brothers\",\n",
      "    \"30 Rock\",\n",
      "    \"Abbott Elementary\",\n",
      "    \"Happy Birthday America\",\n",
      "    \"Cookus\",\n",
      "    \"Gilda Radner\",\n",
      "    \"Modern Family\",\n",
      "    \"Teedra Moses\",\n",
      "    \"the americans\",\n",
      "    \"Twin Peaks\",\n",
      "    \"The Leftovers\"\n",
      "]\n"
     ]
    }
   ],
   "source": [
    "#Find the common trends between New York and London.\n",
    "    #Use the woeid of each city as an identifier.\n",
    "    #Search the Twitter API for trends in both cities with the woeid.\n",
    "    #Print the output with json.dumps() and indent of 4.\n",
    "    \n",
    "import json \n",
    "London_trends_list = [trend[\"name\"] for trend in London_trends[0][\"trends\"]]\n",
    "print(json.dumps(London_trends_list, indent=4))\n",
    "\n",
    "NY_trends_list = [trend[\"name\"] for trend in NY_trends[0][\"trends\"]]\n",
    "print(json.dumps(NY_trends_list, indent=4))"
   ]
  },
  {
   "cell_type": "code",
   "execution_count": 41,
   "id": "1cf35cef",
   "metadata": {},
   "outputs": [
    {
     "data": {
      "text/plain": [
       "{'Daily Quordle 161',\n",
       " 'Denmark',\n",
       " 'Happy 4th of July',\n",
       " 'Independence Day',\n",
       " 'Wordle 380 X'}"
      ]
     },
     "execution_count": 41,
     "metadata": {},
     "output_type": "execute_result"
    }
   ],
   "source": [
    "    #Create a list of the common topics and use the set() function to determine the intersection.\n",
    "    #Print the common trend.\n",
    "    \n",
    "London_trends_set = set(London_trends_list)\n",
    "NY_trends_set = set(NY_trends_list)\n",
    "\n",
    "common_trends = London_trends_set.intersection(NY_trends_set)\n",
    "common_trends"
   ]
  },
  {
   "cell_type": "code",
   "execution_count": 42,
   "id": "9178edad",
   "metadata": {
    "scrolled": false
   },
   "outputs": [
    {
     "name": "stdout",
     "output_type": "stream",
     "text": [
      "Length of statuses 10\n",
      "Length of statuses 18\n",
      "Length of statuses 18\n",
      "{\n",
      "    \"created_at\": \"Mon Jul 04 05:50:32 +0000 2022\",\n",
      "    \"id\": 1543834624870285313,\n",
      "    \"id_str\": \"1543834624870285313\",\n",
      "    \"text\": \"The global cryptocurrency market cap was trading at $865.22 billion mark, dropping more than half a per cent in the\\u2026 https://t.co/1YoyB3llSK\",\n",
      "    \"truncated\": true,\n",
      "    \"entities\": {\n",
      "        \"hashtags\": [],\n",
      "        \"symbols\": [],\n",
      "        \"user_mentions\": [],\n",
      "        \"urls\": [\n",
      "            {\n",
      "                \"url\": \"https://t.co/1YoyB3llSK\",\n",
      "                \"expanded_url\": \"https://twitter.com/i/web/status/1543834624870285313\",\n",
      "                \"display_url\": \"twitter.com/i/web/status/1\\u2026\",\n",
      "                \"indices\": [\n",
      "                    117,\n",
      "                    140\n",
      "                ]\n",
      "            }\n",
      "        ]\n",
      "    },\n",
      "    \"metadata\": {\n",
      "        \"iso_language_code\": \"en\",\n",
      "        \"result_type\": \"recent\"\n",
      "    },\n",
      "    \"source\": \"<a href=\\\"https://mobile.twitter.com\\\" rel=\\\"nofollow\\\">Twitter Web App</a>\",\n",
      "    \"in_reply_to_status_id\": null,\n",
      "    \"in_reply_to_status_id_str\": null,\n",
      "    \"in_reply_to_user_id\": null,\n",
      "    \"in_reply_to_user_id_str\": null,\n",
      "    \"in_reply_to_screen_name\": null,\n",
      "    \"user\": {\n",
      "        \"id\": 1413099520833986564,\n",
      "        \"id_str\": \"1413099520833986564\",\n",
      "        \"name\": \"Anu Radha\",\n",
      "        \"screen_name\": \"anu_financial\",\n",
      "        \"location\": \"\",\n",
      "        \"description\": \"Financial Analyst By Profession.\\nSports Freak By Choice.\\n(Don't follow for followback)\",\n",
      "        \"url\": null,\n",
      "        \"entities\": {\n",
      "            \"description\": {\n",
      "                \"urls\": []\n",
      "            }\n",
      "        },\n",
      "        \"protected\": false,\n",
      "        \"followers_count\": 196,\n",
      "        \"friends_count\": 25,\n",
      "        \"listed_count\": 2,\n",
      "        \"created_at\": \"Thu Jul 08 11:36:06 +0000 2021\",\n",
      "        \"favourites_count\": 1712,\n",
      "        \"utc_offset\": null,\n",
      "        \"time_zone\": null,\n",
      "        \"geo_enabled\": false,\n",
      "        \"verified\": false,\n",
      "        \"statuses_count\": 4930,\n",
      "        \"lang\": null,\n",
      "        \"contributors_enabled\": false,\n",
      "        \"is_translator\": false,\n",
      "        \"is_translation_enabled\": false,\n",
      "        \"profile_background_color\": \"F5F8FA\",\n",
      "        \"profile_background_image_url\": null,\n",
      "        \"profile_background_image_url_https\": null,\n",
      "        \"profile_background_tile\": false,\n",
      "        \"profile_image_url\": \"http://pbs.twimg.com/profile_images/1413099656662327303/qOEz3pKw_normal.jpg\",\n",
      "        \"profile_image_url_https\": \"https://pbs.twimg.com/profile_images/1413099656662327303/qOEz3pKw_normal.jpg\",\n",
      "        \"profile_banner_url\": \"https://pbs.twimg.com/profile_banners/1413099520833986564/1625748963\",\n",
      "        \"profile_link_color\": \"1DA1F2\",\n",
      "        \"profile_sidebar_border_color\": \"C0DEED\",\n",
      "        \"profile_sidebar_fill_color\": \"DDEEF6\",\n",
      "        \"profile_text_color\": \"333333\",\n",
      "        \"profile_use_background_image\": true,\n",
      "        \"has_extended_profile\": true,\n",
      "        \"default_profile\": true,\n",
      "        \"default_profile_image\": false,\n",
      "        \"following\": false,\n",
      "        \"follow_request_sent\": false,\n",
      "        \"notifications\": false,\n",
      "        \"translator_type\": \"none\",\n",
      "        \"withheld_in_countries\": []\n",
      "    },\n",
      "    \"geo\": null,\n",
      "    \"coordinates\": null,\n",
      "    \"place\": null,\n",
      "    \"contributors\": null,\n",
      "    \"is_quote_status\": false,\n",
      "    \"retweet_count\": 0,\n",
      "    \"favorite_count\": 0,\n",
      "    \"favorited\": false,\n",
      "    \"retweeted\": false,\n",
      "    \"lang\": \"en\"\n",
      "}\n"
     ]
    }
   ],
   "source": [
    "#Search Twitter for #Bitcoin and print the output with and json.dumps() and indent of 4.\n",
    "\n",
    "search_results = twitter_api.search.tweets(q=\"#bitcoin\", Count=100)\n",
    "statuses = search_results[\"statuses\"]\n",
    "\n",
    "for _ in range(5):\n",
    "    print(\"Length of statuses\", len(statuses))\n",
    "    try:\n",
    "        next_results = search_results['search_metadata']['next_results']\n",
    "    except KeyError: # No more results when next_results doesn't exist\n",
    "        break\n",
    "        \n",
    "    # Create a dictionary from next_results\n",
    "    kwargs = dict([ kv.split('=') for kv in next_results[1:].split(\"&\") ])\n",
    "    \n",
    "    search_results = twitter_api.search.tweets(**kwargs)\n",
    "    statuses += search_results['statuses']\n",
    "\n",
    "print(json.dumps(statuses[1], indent=4))\n",
    "\n",
    "#Save the Notebook to your Github repository by uploading and committing any changes.\n"
   ]
  },
  {
   "cell_type": "markdown",
   "id": "d75a9832",
   "metadata": {},
   "source": [
    "### LSE Data Analytics Online Career Accelerator\n",
    "\n",
    "# DA201: Data Analytics using Python"
   ]
  },
  {
   "cell_type": "markdown",
   "id": "963426a8",
   "metadata": {},
   "source": [
    "## Practical activity: Search the Twitter API"
   ]
  },
  {
   "cell_type": "markdown",
   "id": "ef810d26",
   "metadata": {},
   "source": [
    "**Important**\n",
    "\n",
    "Please take note that you will work with the Twitter API. Keep in mind that the Twitter API is based on live and current events. Therefore, your output will differ from the outputs provided. For example, the colour of apples was trending yesterday, but today the aerodynamics of aeroplanes is trending."
   ]
  },
  {
   "cell_type": "markdown",
   "id": "8615e7ee",
   "metadata": {},
   "source": [
    "**This is the solution to the activity.**\n",
    "\n",
    "The story of Bitcoin and other cryptocurrencies has captured investors like few financial stories have. Many finance firms are looking to invest in the crypto market. As a data analyst at a financial institution, your manager has tasked you with investigating Bitcoin in a little more detail, particularly in terms of future growth of the currency and its use in the United States. \n",
    "\n",
    "Earlier, as a data analyst at a financial institution, your manager tasked you with investigating Bitcoin in terms of future growth and its use in the United States. Previously, you accessed Bitcoin data through the Coingecko API. Now, your manager asks you to turn your attention to Twitter, particularly tweets on Bitcoin and cryptocurrency in general. Your manager particularly wants you to check if Bitcoin is trending in `New York, Los Angeles, Sydney, Auckland, and Dubai`.\n",
    "\n",
    "She also wants to see a DataFrame of topics with over `200,000` tweets for each city. \n",
    "\n",
    "Your manager then wants you to cross-check trending topics between the `United States and the UK`, to see what people are talking about in both countries, and if Bitcoin forms part of the larger conversation. If Bitcoin is not a shared trending topic, then she asks that you search Twitter for `#Bitcoin` and two other cryptocurrency hashtags of your choice, and analyse the top two tweets you return for each hashtag, particularly in terms of their popularity."
   ]
  },
  {
   "cell_type": "markdown",
   "id": "eb962e25",
   "metadata": {},
   "source": [
    "## 1. Prepare your workstation"
   ]
  },
  {
   "cell_type": "code",
   "execution_count": null,
   "id": "fde628ad",
   "metadata": {},
   "outputs": [],
   "source": [
    "# Copy the YAML file and your Twitter keys over to this Jupyter Notebook before you start to work.\n",
    "import yaml\n",
    "from yaml.loader import SafeLoader\n",
    "from twitter import *\n",
    "\n",
    "# Import the YAML file - remember to specify the whole path.\n",
    "twitter_creds = yaml.safe_load(open('twitter.yaml', 'r').read())\n",
    "\n",
    "# Pass your Twitter credentials.\n",
    "twitter_api = Twitter(auth=OAuth(twitter_creds['access_token'],\n",
    "                                 twitter_creds['access_token_secret'], \n",
    "                                 twitter_creds['api_key'],\n",
    "                                 twitter_creds['api_secret_key'] ))"
   ]
  },
  {
   "cell_type": "code",
   "execution_count": null,
   "id": "abdc9de9",
   "metadata": {},
   "outputs": [],
   "source": [
    "# See if you are connected.\n",
    "print(twitter_api)"
   ]
  },
  {
   "cell_type": "code",
   "execution_count": null,
   "id": "74c8716e",
   "metadata": {},
   "outputs": [],
   "source": [
    "# Run a test with #python.\n",
    "python_tweets = twitter_api.search.tweets(q=\"#python\")\n",
    "\n",
    "# View the output.\n",
    "print(python_tweets)"
   ]
  },
  {
   "cell_type": "markdown",
   "id": "c4a538ea",
   "metadata": {},
   "source": [
    "## 2. Identify New York and London"
   ]
  },
  {
   "cell_type": "code",
   "execution_count": null,
   "id": "998dcb48",
   "metadata": {},
   "outputs": [],
   "source": [
    "# Determine worldwide trends.\n",
    "trends_worldwide = twitter_api.trends.available()\n",
    "\n",
    "# How many trends are available?\n",
    "print(len(trends_worldwide))\n",
    "\n",
    "# Example of trends_worldwide.\n",
    "trends_worldwide[0]"
   ]
  },
  {
   "cell_type": "markdown",
   "id": "7b187b02",
   "metadata": {},
   "source": [
    "## New York"
   ]
  },
  {
   "cell_type": "code",
   "execution_count": null,
   "id": "7e03f49d",
   "metadata": {},
   "outputs": [],
   "source": [
    "# Find New York.\n",
    "our_city = 'New York'\n",
    "\n",
    "# Create a variable.\n",
    "new_york = [_ for _ in trends_worldwide if _['name'] == our_city]\n",
    "\n",
    "# View the output.\n",
    "print(len(new_york))\n",
    "\n",
    "# Use index to find New York.\n",
    "new_york[0]\n",
    "\n",
    "# List of where on earth identifier (woeid).\n",
    "new_york[0]['woeid']"
   ]
  },
  {
   "cell_type": "markdown",
   "id": "c8e5e2de",
   "metadata": {},
   "source": [
    "## London"
   ]
  },
  {
   "cell_type": "code",
   "execution_count": null,
   "id": "b812b2cd",
   "metadata": {},
   "outputs": [],
   "source": [
    "# Find London.\n",
    "our_city_2 = 'London'\n",
    "\n",
    "# Create a variable.\n",
    "london = [_ for _ in trends_worldwide if _['name'] == our_city_2]\n",
    "\n",
    "# View the output.\n",
    "print(len(london))\n",
    "\n",
    "# Use index to find London.\n",
    "london[0]\n",
    "\n",
    "# List of where on earth identifier (woeid).\n",
    "london[0]['woeid']"
   ]
  },
  {
   "cell_type": "markdown",
   "id": "53503590",
   "metadata": {},
   "source": [
    "## 3. Common trends"
   ]
  },
  {
   "cell_type": "markdown",
   "id": "94b62597",
   "metadata": {},
   "source": [
    "## New York"
   ]
  },
  {
   "cell_type": "code",
   "execution_count": null,
   "id": "de2a1667",
   "metadata": {},
   "outputs": [],
   "source": [
    "# Look at trends in New York.\n",
    "new_york_trends = twitter_api.trends.place(_id = new_york[0]['woeid'])\n",
    "\n",
    "# View the output.\n",
    "new_york_trends"
   ]
  },
  {
   "cell_type": "code",
   "execution_count": null,
   "id": "fdc25975",
   "metadata": {},
   "outputs": [],
   "source": [
    "# Look at the output as a DataFrame.\n",
    "# Import Pandas.\n",
    "import pandas as pd\n",
    "\n",
    "# Create a DataFrame.\n",
    "new_york_trends_pd = pd.DataFrame(new_york_trends[0]['trends'])\n",
    "\n",
    "# View a DataFrame.\n",
    "new_york_trends_pd"
   ]
  },
  {
   "cell_type": "code",
   "execution_count": null,
   "id": "97d6a9d4",
   "metadata": {},
   "outputs": [],
   "source": [
    "# Narrow list down to 50,000 tweets.\n",
    "new_york_trends_over50k_pd = new_york_trends_pd[new_york_trends_pd['tweet_volume'] > 50000]\\\n",
    ".sort_values('tweet_volume', ascending=False)\n",
    "\n",
    "# View the output.\n",
    "print(new_york_trends_over50k_pd.shape)\n",
    "new_york_trends_over50k_pd"
   ]
  },
  {
   "cell_type": "code",
   "execution_count": null,
   "id": "75f7f04c",
   "metadata": {},
   "outputs": [],
   "source": [
    "# Save output as a CSV file.\n",
    "new_york_trends_over50k_pd.to_csv('new_york_trends_over50k.csv', index=False)"
   ]
  },
  {
   "cell_type": "markdown",
   "id": "5023d317",
   "metadata": {},
   "source": [
    "## London"
   ]
  },
  {
   "cell_type": "code",
   "execution_count": null,
   "id": "a173185a",
   "metadata": {},
   "outputs": [],
   "source": [
    "# Look at trends in London.\n",
    "london = twitter_api.trends.place(_id = london[0]['woeid'])\n",
    "\n",
    "# View the output.\n",
    "london"
   ]
  },
  {
   "cell_type": "code",
   "execution_count": null,
   "id": "052928e8",
   "metadata": {},
   "outputs": [],
   "source": [
    "# Look at the output as a DataFrame.\n",
    "\n",
    "# Create a DataFrame.\n",
    "london_trends_pd = pd.DataFrame(london[0]['trends'])\n",
    "\n",
    "# View the DataFrame.\n",
    "london_trends_pd"
   ]
  },
  {
   "cell_type": "code",
   "execution_count": null,
   "id": "02262511",
   "metadata": {},
   "outputs": [],
   "source": [
    "# Narrow list down to 50,000 tweets.\n",
    "london_trends_over50k_pd = london_trends_pd[london_trends_pd['tweet_volume'] > 50000]\\\n",
    ".sort_values('tweet_volume', ascending=False)\n",
    "\n",
    "# View the output.\n",
    "print(london_trends_over50k_pd.shape)\n",
    "london_trends_over50k_pd"
   ]
  },
  {
   "cell_type": "code",
   "execution_count": null,
   "id": "106f5751",
   "metadata": {},
   "outputs": [],
   "source": [
    "# Save output as a CSV file.\n",
    "london_trends_over50k_pd.to_csv('london_trends_over50k.csv', index=False)"
   ]
  },
  {
   "cell_type": "markdown",
   "id": "50b40505",
   "metadata": {},
   "source": [
    "### compare cities"
   ]
  },
  {
   "cell_type": "code",
   "execution_count": null,
   "id": "67e27f92",
   "metadata": {},
   "outputs": [],
   "source": [
    "# Find New York.\n",
    "our_city = 'New York'\n",
    "\n",
    "# Create a variable.\n",
    "new_york = [_ for _ in trends_worldwide if _['name'] == our_city]\n",
    "\n",
    "# View the output.\n",
    "new_york[0]['woeid']"
   ]
  },
  {
   "cell_type": "code",
   "execution_count": null,
   "id": "69c4e836",
   "metadata": {},
   "outputs": [],
   "source": [
    "# Find London.\n",
    "our_city_2 = 'London'\n",
    "\n",
    "# Create a variable.\n",
    "london = [_ for _ in trends_worldwide if _['name'] == our_city_2]\n",
    "\n",
    "# View the output.\n",
    "london[0]['woeid']"
   ]
  },
  {
   "cell_type": "code",
   "execution_count": null,
   "id": "2928e06a",
   "metadata": {},
   "outputs": [],
   "source": [
    "# Search for each city.\n",
    "# Import JSON.\n",
    "import json\n",
    "\n",
    "# Search for New York.\n",
    "new_york_trends = twitter_api.trends.place(_id=2459115)\n",
    "\n",
    "# View JSON output.\n",
    "print (json.dumps(new_york_trends, indent=4))"
   ]
  },
  {
   "cell_type": "code",
   "execution_count": null,
   "id": "02c12c07",
   "metadata": {},
   "outputs": [],
   "source": [
    "# Search for London.\n",
    "london_trends = twitter_api.trends.place(_id=44418)\n",
    "\n",
    "# View JSON output.\n",
    "print (json.dumps(london_trends, indent=4))"
   ]
  },
  {
   "cell_type": "code",
   "execution_count": null,
   "id": "ea6ff27b",
   "metadata": {},
   "outputs": [],
   "source": [
    "# Find common topics.\n",
    "new_york_trends_list = [trend['name'] for trend in new_york_trends[0]['trends']]\n",
    "\n",
    "# View output.\n",
    "print(new_york_trends_list)"
   ]
  },
  {
   "cell_type": "code",
   "execution_count": null,
   "id": "baa09b62",
   "metadata": {},
   "outputs": [],
   "source": [
    "# Find common topics.\n",
    "london_trends_list = [trend['name'] for trend in london_trends[0]['trends']]\n",
    "\n",
    "# View output.\n",
    "print(london_trends_list)"
   ]
  },
  {
   "cell_type": "code",
   "execution_count": null,
   "id": "626ed5d9",
   "metadata": {},
   "outputs": [],
   "source": [
    "# Find trends between cities.\n",
    "new_york_trends_set = set(new_york_trends_list)\n",
    "london_trends_set = set(london_trends_list)\n",
    "\n",
    "# Set variable.\n",
    "common_trends = new_york_trends_set.intersection(london_trends_set)\n",
    "\n",
    "# View output.\n",
    "print(common_trends)"
   ]
  },
  {
   "cell_type": "markdown",
   "id": "bb9f0d33",
   "metadata": {},
   "source": [
    "## Search for #Bitcoin"
   ]
  },
  {
   "cell_type": "code",
   "execution_count": null,
   "id": "898d5bdc",
   "metadata": {},
   "outputs": [],
   "source": [
    "# Run a test with #Bitcoin.\n",
    "bitcoin_tweets = twitter_api.search.tweets(q=\"#Bitcoin\")\n",
    "\n",
    "# View JSON output.\n",
    "print(json.dumps(bitcoin_tweets, indent=4))"
   ]
  },
  {
   "cell_type": "code",
   "execution_count": null,
   "id": "37088fbe",
   "metadata": {},
   "outputs": [],
   "source": []
  }
 ],
 "metadata": {
  "kernelspec": {
   "display_name": "Python 3",
   "language": "python",
   "name": "python3"
  },
  "language_info": {
   "codemirror_mode": {
    "name": "ipython",
    "version": 3
   },
   "file_extension": ".py",
   "mimetype": "text/x-python",
   "name": "python",
   "nbconvert_exporter": "python",
   "pygments_lexer": "ipython3",
   "version": "3.8.8"
  }
 },
 "nbformat": 4,
 "nbformat_minor": 5
}
